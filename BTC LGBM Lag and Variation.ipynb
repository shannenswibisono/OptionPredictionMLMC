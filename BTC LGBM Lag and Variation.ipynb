{
 "cells": [
  {
   "cell_type": "code",
   "execution_count": 1,
   "id": "029b5989",
   "metadata": {},
   "outputs": [],
   "source": [
    "import pandas as pd\n",
    "import numpy as np\n",
    "import lightgbm as lgb\n",
    "from sklearn.metrics import mean_squared_error\n",
    "from openpyxl import Workbook\n",
    "from openpyxl.utils.dataframe import dataframe_to_rows"
   ]
  },
  {
   "cell_type": "code",
   "execution_count": null,
   "id": "458e764f",
   "metadata": {},
   "outputs": [],
   "source": [
    "#### CALL BERDASARKAN LAG ####"
   ]
  },
  {
   "cell_type": "code",
   "execution_count": 2,
   "id": "612af523",
   "metadata": {},
   "outputs": [],
   "source": [
    "# Load the training and testing data\n",
    "train_data = pd.read_excel(\"/Users/shannenwibisono/Desktop/-SKRIPSI-/Bitcoin/Bitcoin Training Testing Call.xlsx\", sheet_name=\"Training Data Call\")\n",
    "test_data = pd.read_excel(\"/Users/shannenwibisono/Desktop/-SKRIPSI-/Bitcoin/Bitcoin Training Testing Call.xlsx\", sheet_name=\"Testing Data Call\")"
   ]
  },
  {
   "cell_type": "code",
   "execution_count": 3,
   "id": "2e158aa1",
   "metadata": {},
   "outputs": [],
   "source": [
    "# Define the LightGBM parameters\n",
    "params = {\n",
    "    'boost_from_average': True,\n",
    "    'colsample_bytree': 0.5,\n",
    "    'fair_c': 1,\n",
    "    'huber_delta': 1,\n",
    "    'learning_rate': 0.05,\n",
    "    'max_bin': 255,\n",
    "    'max_delta_step': 0.7,\n",
    "    'max_depth': -1,  # None is represented by -1 in LightGBM\n",
    "    'min_child_samples': 10,\n",
    "    'min_child_weight': 5,\n",
    "    'min_split_gain': 0,\n",
    "    'n_estimators': 2500,\n",
    "    'num_leaves': 16,\n",
    "    'objective': 'gamma',\n",
    "    'reg_alpha': 0,\n",
    "    'reg_lambda': 0,\n",
    "    'subsample': 1,\n",
    "    'subsample_for_bin': 50000,\n",
    "    'subsample_freq': 1,\n",
    "    'tweedie_variance_power': 1.5,\n",
    "    'early_stopping_round': 200  # Set early stopping in parameters\n",
    "}\n",
    "\n",
    "\n",
    "# Define lag configurations\n",
    "lags = {\n",
    "    'lag1': ['RVlag1', 'BVlag1'],\n",
    "    'lag7': ['RVlag7', 'BVlag7', 'SJVlag7'],\n",
    "    'lag15': ['RVlag15', 'BVlag15', 'SJVlag15'],\n",
    "    'lag30': ['RVlag30', 'BVlag30', 'SJVlag30']\n",
    "}"
   ]
  },
  {
   "cell_type": "code",
   "execution_count": 4,
   "id": "6fd271e8",
   "metadata": {},
   "outputs": [],
   "source": [
    "# Output file path\n",
    "output_file = \"/Users/shannenwibisono/Desktop/-SKRIPSI-/Results LGBM/Results_LightGBM_BTCCall_Lags.xlsx\"\n",
    "\n",
    "# Create a workbook to save results\n",
    "wb = Workbook()\n",
    "ws_summary = wb.active\n",
    "ws_summary.title = \"Summary\"\n",
    "ws_summary.append([\"Lag\", \"RMSE\", \"MAPE\"])  # Add headers for summary"
   ]
  },
  {
   "cell_type": "code",
   "execution_count": 6,
   "id": "94b52ac7",
   "metadata": {},
   "outputs": [
    {
     "name": "stdout",
     "output_type": "stream",
     "text": [
      "\n",
      "Testing with lag: lag1\n",
      "[LightGBM] [Warning] Unknown parameter: huber_delta\n",
      "[LightGBM] [Warning] Unknown parameter: huber_delta\n",
      "[LightGBM] [Info] Auto-choosing col-wise multi-threading, the overhead of testing was 0.001191 seconds.\n",
      "You can set `force_col_wise=true` to remove the overhead.\n",
      "[LightGBM] [Info] Total Bins 1085\n",
      "[LightGBM] [Info] Number of data points in the train set: 8228, number of used features: 5\n",
      "[LightGBM] [Warning] Unknown parameter: huber_delta\n",
      "[LightGBM] [Info] Start training from score 9.399805\n",
      "Training until validation scores don't improve for 200 rounds\n"
     ]
    },
    {
     "name": "stderr",
     "output_type": "stream",
     "text": [
      "/Users/shannenwibisono/anaconda3/lib/python3.11/site-packages/lightgbm/engine.py:204: UserWarning: Found `n_estimators` in params. Will use it instead of argument\n",
      "  _log_warning(f\"Found `{alias}` in params. Will use it instead of argument\")\n"
     ]
    },
    {
     "name": "stdout",
     "output_type": "stream",
     "text": [
      "Did not meet early stopping. Best iteration is:\n",
      "[2500]\ttrain's gamma: 9.77736\ttest's gamma: 9.7975\n",
      "Lag: lag1 | RMSE: 295.6539 | MAPE: 2.10%\n",
      "\n",
      "Testing with lag: lag7\n",
      "[LightGBM] [Warning] Unknown parameter: huber_delta\n",
      "[LightGBM] [Warning] Unknown parameter: huber_delta\n",
      "[LightGBM] [Info] Auto-choosing col-wise multi-threading, the overhead of testing was 0.000134 seconds.\n",
      "You can set `force_col_wise=true` to remove the overhead.\n",
      "[LightGBM] [Info] Total Bins 1339\n",
      "[LightGBM] [Info] Number of data points in the train set: 8228, number of used features: 6\n",
      "[LightGBM] [Warning] Unknown parameter: huber_delta\n",
      "[LightGBM] [Info] Start training from score 9.399805\n",
      "Training until validation scores don't improve for 200 rounds\n"
     ]
    },
    {
     "name": "stderr",
     "output_type": "stream",
     "text": [
      "/Users/shannenwibisono/anaconda3/lib/python3.11/site-packages/lightgbm/engine.py:204: UserWarning: Found `n_estimators` in params. Will use it instead of argument\n",
      "  _log_warning(f\"Found `{alias}` in params. Will use it instead of argument\")\n"
     ]
    },
    {
     "name": "stdout",
     "output_type": "stream",
     "text": [
      "Did not meet early stopping. Best iteration is:\n",
      "[2498]\ttrain's gamma: 9.77746\ttest's gamma: 9.7977\n",
      "Lag: lag7 | RMSE: 369.4301 | MAPE: 2.52%\n",
      "\n",
      "Testing with lag: lag15\n",
      "[LightGBM] [Warning] Unknown parameter: huber_delta\n",
      "[LightGBM] [Warning] Unknown parameter: huber_delta\n",
      "[LightGBM] [Info] Auto-choosing col-wise multi-threading, the overhead of testing was 0.000134 seconds.\n",
      "You can set `force_col_wise=true` to remove the overhead.\n",
      "[LightGBM] [Info] Total Bins 1339\n",
      "[LightGBM] [Info] Number of data points in the train set: 8228, number of used features: 6\n",
      "[LightGBM] [Warning] Unknown parameter: huber_delta\n",
      "[LightGBM] [Info] Start training from score 9.399805\n",
      "Training until validation scores don't improve for 200 rounds\n"
     ]
    },
    {
     "name": "stderr",
     "output_type": "stream",
     "text": [
      "/Users/shannenwibisono/anaconda3/lib/python3.11/site-packages/lightgbm/engine.py:204: UserWarning: Found `n_estimators` in params. Will use it instead of argument\n",
      "  _log_warning(f\"Found `{alias}` in params. Will use it instead of argument\")\n"
     ]
    },
    {
     "name": "stdout",
     "output_type": "stream",
     "text": [
      "Did not meet early stopping. Best iteration is:\n",
      "[2500]\ttrain's gamma: 9.77746\ttest's gamma: 9.79774\n",
      "Lag: lag15 | RMSE: 343.4188 | MAPE: 2.51%\n",
      "\n",
      "Testing with lag: lag30\n",
      "[LightGBM] [Warning] Unknown parameter: huber_delta\n",
      "[LightGBM] [Warning] Unknown parameter: huber_delta\n",
      "[LightGBM] [Info] Auto-choosing row-wise multi-threading, the overhead of testing was 0.000054 seconds.\n",
      "You can set `force_row_wise=true` to remove the overhead.\n",
      "And if memory is not enough, you can set `force_col_wise=true`.\n",
      "[LightGBM] [Info] Total Bins 1336\n",
      "[LightGBM] [Info] Number of data points in the train set: 8228, number of used features: 6\n",
      "[LightGBM] [Warning] Unknown parameter: huber_delta\n",
      "[LightGBM] [Info] Start training from score 9.399805\n",
      "Training until validation scores don't improve for 200 rounds\n"
     ]
    },
    {
     "name": "stderr",
     "output_type": "stream",
     "text": [
      "/Users/shannenwibisono/anaconda3/lib/python3.11/site-packages/lightgbm/engine.py:204: UserWarning: Found `n_estimators` in params. Will use it instead of argument\n",
      "  _log_warning(f\"Found `{alias}` in params. Will use it instead of argument\")\n"
     ]
    },
    {
     "name": "stdout",
     "output_type": "stream",
     "text": [
      "Did not meet early stopping. Best iteration is:\n",
      "[2500]\ttrain's gamma: 9.77747\ttest's gamma: 9.79767\n",
      "Lag: lag30 | RMSE: 373.5035 | MAPE: 2.47%\n",
      "All results saved to Excel file: /Users/shannenwibisono/Desktop/-SKRIPSI-/Results LGBM/Results_LightGBM_BTCCall_Lags.xlsx\n"
     ]
    }
   ],
   "source": [
    "# Loop through each lag configuration\n",
    "for lag_name, features in lags.items():\n",
    "    print(f\"\\nTesting with lag: {lag_name}\")\n",
    "    \n",
    "    # Select relevant features\n",
    "    selected_features = ['Asset Price', 'Maturity', 'Strike'] + features\n",
    "    \n",
    "    # Prepare features and target\n",
    "    x_train = train_data[selected_features].values\n",
    "    y_train = train_data['Last'].values\n",
    "    x_test = test_data[selected_features].values\n",
    "    y_test = test_data['Last'].values\n",
    "    \n",
    "    # Create LightGBM datasets\n",
    "    train_set = lgb.Dataset(x_train, label=y_train)\n",
    "    test_set = lgb.Dataset(x_test, label=y_test, reference=train_set)\n",
    "    \n",
    "    # Train the model\n",
    "    model = lgb.train(\n",
    "        params, \n",
    "        train_set, \n",
    "        valid_sets=[train_set, test_set], \n",
    "        valid_names=[\"train\", \"test\"], \n",
    "        num_boost_round=2500\n",
    "    )\n",
    "    \n",
    "    # Make predictions\n",
    "    y_pred = model.predict(x_test, num_iteration=model.best_iteration)\n",
    "    \n",
    "    # Calculate RMSE and MAPE\n",
    "    rmse = mean_squared_error(y_test, y_pred, squared=False)\n",
    "    mape = np.mean(np.abs((y_test - y_pred) / y_test)) * 100\n",
    "    print(f\"Lag: {lag_name} | RMSE: {rmse:.4f} | MAPE: {mape:.2f}%\")\n",
    "    \n",
    "    # Save results in a new sheet\n",
    "    results = pd.DataFrame({\n",
    "        'Date': test_data['Time'],  # Adjust 'Time' to your date column name\n",
    "        'Actual': y_test,\n",
    "        'Predicted': y_pred,\n",
    "        'RMSE': [rmse] * len(y_test),  # Add RMSE for consistency\n",
    "        'MAPE': [mape] * len(y_test)  # Add MAPE for consistency\n",
    "    })\n",
    "    \n",
    "    # Add summary results\n",
    "    ws_summary.append([lag_name, rmse, mape])\n",
    "    \n",
    "    # Add sheet for this lag\n",
    "    ws = wb.create_sheet(title=lag_name)\n",
    "    for r in dataframe_to_rows(results, index=False, header=True):\n",
    "        ws.append(r)\n",
    "\n",
    "# Save the workbook\n",
    "wb.save(output_file)\n",
    "print(f\"All results saved to Excel file: {output_file}\")"
   ]
  },
  {
   "cell_type": "code",
   "execution_count": null,
   "id": "12dd7647",
   "metadata": {},
   "outputs": [],
   "source": [
    "#### CALL BERDASARKAN JENIS VARIATION ####"
   ]
  },
  {
   "cell_type": "code",
   "execution_count": 7,
   "id": "e6f608bf",
   "metadata": {},
   "outputs": [],
   "source": [
    "# Load training and testing data\n",
    "# Load the training and testing data\n",
    "train_data = pd.read_excel(\"/Users/shannenwibisono/Desktop/-SKRIPSI-/Bitcoin/Bitcoin Training Testing Call.xlsx\", sheet_name=\"Training Data Call\")\n",
    "test_data = pd.read_excel(\"/Users/shannenwibisono/Desktop/-SKRIPSI-/Bitcoin/Bitcoin Training Testing Call.xlsx\", sheet_name=\"Testing Data Call\")\n",
    "\n",
    "# Define the LightGBM parameters\n",
    "params = {\n",
    "    'boost_from_average': True,\n",
    "    'colsample_bytree': 0.5,\n",
    "    'fair_c': 1,\n",
    "    'huber_delta': 1,\n",
    "    'learning_rate': 0.05,\n",
    "    'max_bin': 255,\n",
    "    'max_delta_step': 0.7,\n",
    "    'max_depth': -1,  # None is represented by -1 in LightGBM\n",
    "    'min_child_samples': 10,\n",
    "    'min_child_weight': 5,\n",
    "    'min_split_gain': 0,\n",
    "    'n_estimators': 2500,\n",
    "    'num_leaves': 16,\n",
    "    'objective': 'gamma',\n",
    "    'reg_alpha': 0,\n",
    "    'reg_lambda': 0,\n",
    "    'subsample': 1,\n",
    "    'subsample_for_bin': 50000,\n",
    "    'subsample_freq': 1,\n",
    "    'tweedie_variance_power': 1.5,\n",
    "    'early_stopping_round': 200  # Set early stopping in parameters\n",
    "}"
   ]
  },
  {
   "cell_type": "code",
   "execution_count": 8,
   "id": "c0167962",
   "metadata": {},
   "outputs": [],
   "source": [
    "# Define the variations and their respective lag features\n",
    "variations = {\n",
    "    'SJV': ['SJVlag1', 'SJVlag7', 'SJVlag15', 'SJVlag30'],\n",
    "    'BV': ['BVlag1', 'BVlag7', 'BVlag15', 'BVlag30'],\n",
    "    'RV': ['RVlag1', 'RVlag7', 'RVlag15', 'RVlag30']\n",
    "}"
   ]
  },
  {
   "cell_type": "code",
   "execution_count": 9,
   "id": "1bbe462d",
   "metadata": {},
   "outputs": [],
   "source": [
    "# Output file path\n",
    "output_file = \"/Users/shannenwibisono/Desktop/-SKRIPSI-/Results LGBM/Results_LightGBM_BTCCall_Variations.xlsx\""
   ]
  },
  {
   "cell_type": "code",
   "execution_count": 10,
   "id": "cdd1e297",
   "metadata": {},
   "outputs": [],
   "source": [
    "# Create a workbook to save results\n",
    "wb = Workbook()\n",
    "ws_summary = wb.active\n",
    "ws_summary.title = \"Summary\"\n",
    "ws_summary.append([\"Variation\", \"RMSE\", \"MAPE\"])  # Add headers for summary"
   ]
  },
  {
   "cell_type": "code",
   "execution_count": 11,
   "id": "d0519c3f",
   "metadata": {},
   "outputs": [
    {
     "name": "stdout",
     "output_type": "stream",
     "text": [
      "\n",
      "Testing with variation: SJV\n",
      "[LightGBM] [Warning] Unknown parameter: huber_delta\n",
      "[LightGBM] [Warning] Unknown parameter: huber_delta\n",
      "[LightGBM] [Info] Auto-choosing col-wise multi-threading, the overhead of testing was 0.000597 seconds.\n",
      "You can set `force_col_wise=true` to remove the overhead.\n",
      "[LightGBM] [Info] Total Bins 1591\n",
      "[LightGBM] [Info] Number of data points in the train set: 8228, number of used features: 7\n",
      "[LightGBM] [Warning] Unknown parameter: huber_delta\n",
      "[LightGBM] [Info] Start training from score 9.399805\n",
      "Training until validation scores don't improve for 200 rounds\n"
     ]
    },
    {
     "name": "stderr",
     "output_type": "stream",
     "text": [
      "/Users/shannenwibisono/anaconda3/lib/python3.11/site-packages/lightgbm/engine.py:204: UserWarning: Found `n_estimators` in params. Will use it instead of argument\n",
      "  _log_warning(f\"Found `{alias}` in params. Will use it instead of argument\")\n"
     ]
    },
    {
     "name": "stdout",
     "output_type": "stream",
     "text": [
      "Did not meet early stopping. Best iteration is:\n",
      "[2500]\ttrain's gamma: 9.77734\ttest's gamma: 9.79747\n",
      "Variation: SJV | RMSE: 286.8801 | MAPE: 2.03%\n",
      "\n",
      "Testing with variation: BV\n",
      "[LightGBM] [Warning] Unknown parameter: huber_delta\n",
      "[LightGBM] [Warning] Unknown parameter: huber_delta\n",
      "[LightGBM] [Info] Auto-choosing col-wise multi-threading, the overhead of testing was 0.000231 seconds.\n",
      "You can set `force_col_wise=true` to remove the overhead.\n",
      "[LightGBM] [Info] Total Bins 1595\n",
      "[LightGBM] [Info] Number of data points in the train set: 8228, number of used features: 7\n",
      "[LightGBM] [Warning] Unknown parameter: huber_delta\n",
      "[LightGBM] [Info] Start training from score 9.399805\n",
      "Training until validation scores don't improve for 200 rounds\n"
     ]
    },
    {
     "name": "stderr",
     "output_type": "stream",
     "text": [
      "/Users/shannenwibisono/anaconda3/lib/python3.11/site-packages/lightgbm/engine.py:204: UserWarning: Found `n_estimators` in params. Will use it instead of argument\n",
      "  _log_warning(f\"Found `{alias}` in params. Will use it instead of argument\")\n"
     ]
    },
    {
     "name": "stdout",
     "output_type": "stream",
     "text": [
      "Did not meet early stopping. Best iteration is:\n",
      "[2500]\ttrain's gamma: 9.77735\ttest's gamma: 9.79751\n",
      "Variation: BV | RMSE: 280.0938 | MAPE: 2.08%\n",
      "\n",
      "Testing with variation: RV\n",
      "[LightGBM] [Warning] Unknown parameter: huber_delta\n",
      "[LightGBM] [Warning] Unknown parameter: huber_delta\n",
      "[LightGBM] [Info] Auto-choosing col-wise multi-threading, the overhead of testing was 0.000144 seconds.\n",
      "You can set `force_col_wise=true` to remove the overhead.\n",
      "[LightGBM] [Info] Total Bins 1593\n",
      "[LightGBM] [Info] Number of data points in the train set: 8228, number of used features: 7\n",
      "[LightGBM] [Warning] Unknown parameter: huber_delta\n",
      "[LightGBM] [Info] Start training from score 9.399805\n",
      "Training until validation scores don't improve for 200 rounds\n"
     ]
    },
    {
     "name": "stderr",
     "output_type": "stream",
     "text": [
      "/Users/shannenwibisono/anaconda3/lib/python3.11/site-packages/lightgbm/engine.py:204: UserWarning: Found `n_estimators` in params. Will use it instead of argument\n",
      "  _log_warning(f\"Found `{alias}` in params. Will use it instead of argument\")\n"
     ]
    },
    {
     "name": "stdout",
     "output_type": "stream",
     "text": [
      "Did not meet early stopping. Best iteration is:\n",
      "[2500]\ttrain's gamma: 9.77733\ttest's gamma: 9.79748\n",
      "Variation: RV | RMSE: 297.6765 | MAPE: 2.01%\n",
      "All results saved to Excel file: /Users/shannenwibisono/Desktop/-SKRIPSI-/Results LGBM/Results_LightGBM_BTCCall_Variations.xlsx\n"
     ]
    }
   ],
   "source": [
    "# Loop through each variation\n",
    "for var_name, features in variations.items():\n",
    "    print(f\"\\nTesting with variation: {var_name}\")\n",
    "    \n",
    "    # Select relevant features\n",
    "    selected_features = ['Asset Price', 'Maturity', 'Strike'] + features\n",
    "    \n",
    "    # Prepare features and target\n",
    "    x_train = train_data[selected_features].values\n",
    "    y_train = train_data['Last'].values\n",
    "    x_test = test_data[selected_features].values\n",
    "    y_test = test_data['Last'].values\n",
    "    \n",
    "    # Create LightGBM datasets\n",
    "    train_set = lgb.Dataset(x_train, label=y_train)\n",
    "    test_set = lgb.Dataset(x_test, label=y_test, reference=train_set)\n",
    "    \n",
    "    # Train the model\n",
    "    model = lgb.train(\n",
    "        params, \n",
    "        train_set, \n",
    "        valid_sets=[train_set, test_set], \n",
    "        valid_names=[\"train\", \"test\"], \n",
    "        num_boost_round=2500\n",
    "    )\n",
    "    \n",
    "    # Make predictions\n",
    "    y_pred = model.predict(x_test, num_iteration=model.best_iteration)\n",
    "    \n",
    "    # Calculate RMSE and MAPE\n",
    "    rmse = mean_squared_error(y_test, y_pred, squared=False)\n",
    "    mape = np.mean(np.abs((y_test - y_pred) / y_test)) * 100\n",
    "    print(f\"Variation: {var_name} | RMSE: {rmse:.4f} | MAPE: {mape:.2f}%\")\n",
    "    \n",
    "    # Save results in a new sheet\n",
    "    results = pd.DataFrame({\n",
    "        'Date': test_data['Time'],  # Adjust 'Time' to your date column name\n",
    "        'Actual': y_test,\n",
    "        'Predicted': y_pred,\n",
    "        'RMSE': [rmse] * len(y_test),  # Add RMSE for consistency\n",
    "        'MAPE': [mape] * len(y_test)  # Add MAPE for consistency\n",
    "    })\n",
    "    \n",
    "    # Add summary results\n",
    "    ws_summary.append([var_name, rmse, mape])\n",
    "    \n",
    "    # Add sheet for this variation\n",
    "    ws = wb.create_sheet(title=var_name)\n",
    "    for r in dataframe_to_rows(results, index=False, header=True):\n",
    "        ws.append(r)\n",
    "\n",
    "# Save the workbook\n",
    "wb.save(output_file)\n",
    "print(f\"All results saved to Excel file: {output_file}\")"
   ]
  },
  {
   "cell_type": "code",
   "execution_count": null,
   "id": "97342858",
   "metadata": {},
   "outputs": [],
   "source": [
    "#### PUT BERDASARKAN LAG ####"
   ]
  },
  {
   "cell_type": "code",
   "execution_count": 12,
   "id": "5efd9d51",
   "metadata": {},
   "outputs": [],
   "source": [
    "# Read training and testing data for Put options\n",
    "train_data_put = pd.read_excel(\"/Users/shannenwibisono/Desktop/-SKRIPSI-/Bitcoin/Bitcoin Training Testing Put.xlsx\", sheet_name=\"Training Data Put\")\n",
    "test_data_put = pd.read_excel(\"/Users/shannenwibisono/Desktop/-SKRIPSI-/Bitcoin/Bitcoin Training Testing Put.xlsx\", sheet_name=\"Testing Data Put\")"
   ]
  },
  {
   "cell_type": "code",
   "execution_count": 13,
   "id": "35280891",
   "metadata": {},
   "outputs": [],
   "source": [
    "# Define the LightGBM parameters\n",
    "params = {\n",
    "    'boost_from_average': True,\n",
    "    'colsample_bytree': 0.5,\n",
    "    'fair_c': 1,\n",
    "    'huber_delta': 1,\n",
    "    'learning_rate': 0.05,\n",
    "    'max_bin': 255,\n",
    "    'max_delta_step': 0.7,\n",
    "    'max_depth': -1,  # None is represented by -1 in LightGBM\n",
    "    'min_child_samples': 10,\n",
    "    'min_child_weight': 5,\n",
    "    'min_split_gain': 0,\n",
    "    'n_estimators': 2500,\n",
    "    'num_leaves': 16,\n",
    "    'objective': 'gamma',\n",
    "    'reg_alpha': 0,\n",
    "    'reg_lambda': 0,\n",
    "    'subsample': 1,\n",
    "    'subsample_for_bin': 50000,\n",
    "    'subsample_freq': 1,\n",
    "    'tweedie_variance_power': 1.5,\n",
    "    'early_stopping_round': 200  # Set early stopping in parameters\n",
    "}\n",
    "\n",
    "# Define lag configurations\n",
    "lags = {\n",
    "    'lag1': ['RVlag1', 'BVlag1'],\n",
    "    'lag7': ['RVlag7', 'BVlag7', 'SJVlag7'],\n",
    "    'lag15': ['RVlag15', 'BVlag15', 'SJVlag15'],\n",
    "    'lag30': ['RVlag30', 'BVlag30', 'SJVlag30']\n",
    "}"
   ]
  },
  {
   "cell_type": "code",
   "execution_count": 14,
   "id": "67c1c5b4",
   "metadata": {},
   "outputs": [],
   "source": [
    "# Output file path\n",
    "output_file = \"/Users/shannenwibisono/Desktop/-SKRIPSI-/Results LGBM/Results_LightGBM_BTCPut_Lags.xlsx\"\n",
    "\n",
    "# Create a workbook to save results\n",
    "wb = Workbook()\n",
    "ws_summary = wb.active\n",
    "ws_summary.title = \"Summary\"\n",
    "ws_summary.append([\"Lag\", \"RMSE\", \"MAPE\"])  # Add headers for summary"
   ]
  },
  {
   "cell_type": "code",
   "execution_count": 15,
   "id": "11bea442",
   "metadata": {},
   "outputs": [
    {
     "name": "stdout",
     "output_type": "stream",
     "text": [
      "\n",
      "Testing with lag: lag1\n",
      "[LightGBM] [Warning] Unknown parameter: huber_delta\n",
      "[LightGBM] [Warning] Unknown parameter: huber_delta\n",
      "[LightGBM] [Info] Auto-choosing col-wise multi-threading, the overhead of testing was 0.000586 seconds.\n",
      "You can set `force_col_wise=true` to remove the overhead.\n",
      "[LightGBM] [Info] Total Bins 1087\n",
      "[LightGBM] [Info] Number of data points in the train set: 8446, number of used features: 5\n",
      "[LightGBM] [Warning] Unknown parameter: huber_delta\n",
      "[LightGBM] [Info] Start training from score 9.242772\n",
      "Training until validation scores don't improve for 200 rounds\n"
     ]
    },
    {
     "name": "stderr",
     "output_type": "stream",
     "text": [
      "/Users/shannenwibisono/anaconda3/lib/python3.11/site-packages/lightgbm/engine.py:204: UserWarning: Found `n_estimators` in params. Will use it instead of argument\n",
      "  _log_warning(f\"Found `{alias}` in params. Will use it instead of argument\")\n"
     ]
    },
    {
     "name": "stdout",
     "output_type": "stream",
     "text": [
      "Did not meet early stopping. Best iteration is:\n",
      "[2500]\ttrain's gamma: 9.08738\ttest's gamma: 8.97395\n",
      "Lag: lag1 | RMSE: 382.2567 | MAPE: 3.99%\n",
      "\n",
      "Testing with lag: lag7\n",
      "[LightGBM] [Warning] Unknown parameter: huber_delta\n",
      "[LightGBM] [Warning] Unknown parameter: huber_delta\n",
      "[LightGBM] [Info] Auto-choosing col-wise multi-threading, the overhead of testing was 0.000528 seconds.\n",
      "You can set `force_col_wise=true` to remove the overhead.\n",
      "[LightGBM] [Info] Total Bins 1342\n",
      "[LightGBM] [Info] Number of data points in the train set: 8446, number of used features: 6\n",
      "[LightGBM] [Warning] Unknown parameter: huber_delta\n",
      "[LightGBM] [Info] Start training from score 9.242772\n",
      "Training until validation scores don't improve for 200 rounds\n"
     ]
    },
    {
     "name": "stderr",
     "output_type": "stream",
     "text": [
      "/Users/shannenwibisono/anaconda3/lib/python3.11/site-packages/lightgbm/engine.py:204: UserWarning: Found `n_estimators` in params. Will use it instead of argument\n",
      "  _log_warning(f\"Found `{alias}` in params. Will use it instead of argument\")\n"
     ]
    },
    {
     "name": "stdout",
     "output_type": "stream",
     "text": [
      "Did not meet early stopping. Best iteration is:\n",
      "[2500]\ttrain's gamma: 9.08767\ttest's gamma: 8.97454\n",
      "Lag: lag7 | RMSE: 549.3515 | MAPE: 4.56%\n",
      "\n",
      "Testing with lag: lag15\n",
      "[LightGBM] [Warning] Unknown parameter: huber_delta\n",
      "[LightGBM] [Warning] Unknown parameter: huber_delta\n",
      "[LightGBM] [Info] Auto-choosing col-wise multi-threading, the overhead of testing was 0.000305 seconds.\n",
      "You can set `force_col_wise=true` to remove the overhead.\n",
      "[LightGBM] [Info] Total Bins 1341\n",
      "[LightGBM] [Info] Number of data points in the train set: 8446, number of used features: 6\n",
      "[LightGBM] [Warning] Unknown parameter: huber_delta\n",
      "[LightGBM] [Info] Start training from score 9.242772\n",
      "Training until validation scores don't improve for 200 rounds\n"
     ]
    },
    {
     "name": "stderr",
     "output_type": "stream",
     "text": [
      "/Users/shannenwibisono/anaconda3/lib/python3.11/site-packages/lightgbm/engine.py:204: UserWarning: Found `n_estimators` in params. Will use it instead of argument\n",
      "  _log_warning(f\"Found `{alias}` in params. Will use it instead of argument\")\n"
     ]
    },
    {
     "name": "stdout",
     "output_type": "stream",
     "text": [
      "Did not meet early stopping. Best iteration is:\n",
      "[2500]\ttrain's gamma: 9.08768\ttest's gamma: 8.97484\n",
      "Lag: lag15 | RMSE: 480.8143 | MAPE: 4.52%\n",
      "\n",
      "Testing with lag: lag30\n",
      "[LightGBM] [Warning] Unknown parameter: huber_delta\n",
      "[LightGBM] [Warning] Unknown parameter: huber_delta\n",
      "[LightGBM] [Info] Auto-choosing col-wise multi-threading, the overhead of testing was 0.000288 seconds.\n",
      "You can set `force_col_wise=true` to remove the overhead.\n",
      "[LightGBM] [Info] Total Bins 1337\n",
      "[LightGBM] [Info] Number of data points in the train set: 8446, number of used features: 6\n",
      "[LightGBM] [Warning] Unknown parameter: huber_delta\n",
      "[LightGBM] [Info] Start training from score 9.242772\n",
      "Training until validation scores don't improve for 200 rounds\n"
     ]
    },
    {
     "name": "stderr",
     "output_type": "stream",
     "text": [
      "/Users/shannenwibisono/anaconda3/lib/python3.11/site-packages/lightgbm/engine.py:204: UserWarning: Found `n_estimators` in params. Will use it instead of argument\n",
      "  _log_warning(f\"Found `{alias}` in params. Will use it instead of argument\")\n"
     ]
    },
    {
     "name": "stdout",
     "output_type": "stream",
     "text": [
      "Did not meet early stopping. Best iteration is:\n",
      "[2500]\ttrain's gamma: 9.08757\ttest's gamma: 8.97431\n",
      "Lag: lag30 | RMSE: 472.3001 | MAPE: 4.32%\n",
      "All results saved to Excel file: /Users/shannenwibisono/Desktop/-SKRIPSI-/Results LGBM/Results_LightGBM_BTCPut_Lags.xlsx\n"
     ]
    }
   ],
   "source": [
    "# Loop through each lag configuration\n",
    "for lag_name, features in lags.items():\n",
    "    print(f\"\\nTesting with lag: {lag_name}\")\n",
    "    \n",
    "    # Select relevant features\n",
    "    selected_features = ['Asset Price', 'Maturity', 'Strike'] + features\n",
    "    \n",
    "    # Prepare features and target\n",
    "    x_train = train_data_put[selected_features].values\n",
    "    y_train = train_data_put['Last'].values\n",
    "    x_test = test_data_put[selected_features].values\n",
    "    y_test = test_data_put['Last'].values\n",
    "    \n",
    "    # Create LightGBM datasets\n",
    "    train_set = lgb.Dataset(x_train, label=y_train)\n",
    "    test_set = lgb.Dataset(x_test, label=y_test, reference=train_set)\n",
    "    \n",
    "    # Train the model\n",
    "    model = lgb.train(\n",
    "        params, \n",
    "        train_set, \n",
    "        valid_sets=[train_set, test_set], \n",
    "        valid_names=[\"train\", \"test\"], \n",
    "        num_boost_round=2500\n",
    "    )\n",
    "    \n",
    "    # Make predictions\n",
    "    y_pred = model.predict(x_test, num_iteration=model.best_iteration)\n",
    "    \n",
    "    # Calculate RMSE and MAPE\n",
    "    rmse = mean_squared_error(y_test, y_pred, squared=False)\n",
    "    mape = np.mean(np.abs((y_test - y_pred) / y_test)) * 100\n",
    "    print(f\"Lag: {lag_name} | RMSE: {rmse:.4f} | MAPE: {mape:.2f}%\")\n",
    "    \n",
    "    # Save results in a new sheet\n",
    "    results = pd.DataFrame({\n",
    "        'Date': test_data_put['Time'],  # Adjust 'Time' to your date column name\n",
    "        'Actual': y_test,\n",
    "        'Predicted': y_pred,\n",
    "        'RMSE': [rmse] * len(y_test),  # Add RMSE for consistency\n",
    "        'MAPE': [mape] * len(y_test)  # Add MAPE for consistency\n",
    "    })\n",
    "    \n",
    "    # Add summary results\n",
    "    ws_summary.append([lag_name, rmse, mape])\n",
    "    \n",
    "    # Add sheet for this lag\n",
    "    ws = wb.create_sheet(title=lag_name)\n",
    "    for r in dataframe_to_rows(results, index=False, header=True):\n",
    "        ws.append(r)\n",
    "\n",
    "# Save the workbook\n",
    "wb.save(output_file)\n",
    "print(f\"All results saved to Excel file: {output_file}\")"
   ]
  },
  {
   "cell_type": "code",
   "execution_count": null,
   "id": "ac877b07",
   "metadata": {},
   "outputs": [],
   "source": [
    "#### PUT BERDASARKAN JENIS VARIATION ####"
   ]
  },
  {
   "cell_type": "code",
   "execution_count": 16,
   "id": "d1fd19a3",
   "metadata": {},
   "outputs": [],
   "source": [
    "# Read training and testing data for Put options\n",
    "train_data_put = pd.read_excel(\"/Users/shannenwibisono/Desktop/-SKRIPSI-/Bitcoin/Bitcoin Training Testing Put.xlsx\", sheet_name=\"Training Data Put\")\n",
    "test_data_put = pd.read_excel(\"/Users/shannenwibisono/Desktop/-SKRIPSI-/Bitcoin/Bitcoin Training Testing Put.xlsx\", sheet_name=\"Testing Data Put\")\n",
    "\n",
    "# Define the LightGBM parameters\n",
    "params = {\n",
    "    'boost_from_average': True,\n",
    "    'colsample_bytree': 0.5,\n",
    "    'fair_c': 1,\n",
    "    'huber_delta': 1,\n",
    "    'learning_rate': 0.05,\n",
    "    'max_bin': 255,\n",
    "    'max_delta_step': 0.7,\n",
    "    'max_depth': -1,  # None is represented by -1 in LightGBM\n",
    "    'min_child_samples': 10,\n",
    "    'min_child_weight': 5,\n",
    "    'min_split_gain': 0,\n",
    "    'n_estimators': 2500,\n",
    "    'num_leaves': 16,\n",
    "    'objective': 'gamma',\n",
    "    'reg_alpha': 0,\n",
    "    'reg_lambda': 0,\n",
    "    'subsample': 1,\n",
    "    'subsample_for_bin': 50000,\n",
    "    'subsample_freq': 1,\n",
    "    'tweedie_variance_power': 1.5,\n",
    "    'early_stopping_round': 200  # Set early stopping in parameters\n",
    "}"
   ]
  },
  {
   "cell_type": "code",
   "execution_count": 17,
   "id": "9ee9c8d3",
   "metadata": {},
   "outputs": [],
   "source": [
    "# Define the variations and their respective lag features\n",
    "variations = {\n",
    "    'SJV': ['SJVlag1', 'SJVlag7', 'SJVlag15', 'SJVlag30'],\n",
    "    'BV': ['BVlag1', 'BVlag7', 'BVlag15', 'BVlag30'],\n",
    "    'RV': ['RVlag1', 'RVlag7', 'RVlag15', 'RVlag30']\n",
    "}"
   ]
  },
  {
   "cell_type": "code",
   "execution_count": 18,
   "id": "784c033a",
   "metadata": {},
   "outputs": [],
   "source": [
    "# Output file path\n",
    "output_file = \"/Users/shannenwibisono/Desktop/-SKRIPSI-/Results LGBM/Results_LightGBM_BTCPut_Variations.xlsx\""
   ]
  },
  {
   "cell_type": "code",
   "execution_count": 19,
   "id": "c336dc0c",
   "metadata": {},
   "outputs": [],
   "source": [
    "# Create a workbook to save results\n",
    "wb = Workbook()\n",
    "ws_summary = wb.active\n",
    "ws_summary.title = \"Summary\"\n",
    "ws_summary.append([\"Variation\", \"RMSE\", \"MAPE\"])  # Add headers for summary"
   ]
  },
  {
   "cell_type": "code",
   "execution_count": 20,
   "id": "321c3bd1",
   "metadata": {},
   "outputs": [
    {
     "name": "stdout",
     "output_type": "stream",
     "text": [
      "\n",
      "Testing with variation: SJV\n",
      "[LightGBM] [Warning] Unknown parameter: huber_delta\n",
      "[LightGBM] [Warning] Unknown parameter: huber_delta\n",
      "[LightGBM] [Info] Auto-choosing col-wise multi-threading, the overhead of testing was 0.000363 seconds.\n",
      "You can set `force_col_wise=true` to remove the overhead.\n",
      "[LightGBM] [Info] Total Bins 1592\n",
      "[LightGBM] [Info] Number of data points in the train set: 8446, number of used features: 7\n",
      "[LightGBM] [Warning] Unknown parameter: huber_delta\n",
      "[LightGBM] [Info] Start training from score 9.242772\n",
      "Training until validation scores don't improve for 200 rounds\n"
     ]
    },
    {
     "name": "stderr",
     "output_type": "stream",
     "text": [
      "/Users/shannenwibisono/anaconda3/lib/python3.11/site-packages/lightgbm/engine.py:204: UserWarning: Found `n_estimators` in params. Will use it instead of argument\n",
      "  _log_warning(f\"Found `{alias}` in params. Will use it instead of argument\")\n"
     ]
    },
    {
     "name": "stdout",
     "output_type": "stream",
     "text": [
      "Did not meet early stopping. Best iteration is:\n",
      "[2500]\ttrain's gamma: 9.08728\ttest's gamma: 8.97375\n",
      "Variation: SJV | RMSE: 311.0357 | MAPE: 3.64%\n",
      "\n",
      "Testing with variation: BV\n",
      "[LightGBM] [Warning] Unknown parameter: huber_delta\n",
      "[LightGBM] [Warning] Unknown parameter: huber_delta\n",
      "[LightGBM] [Info] Auto-choosing col-wise multi-threading, the overhead of testing was 0.000245 seconds.\n",
      "You can set `force_col_wise=true` to remove the overhead.\n",
      "[LightGBM] [Info] Total Bins 1597\n",
      "[LightGBM] [Info] Number of data points in the train set: 8446, number of used features: 7\n",
      "[LightGBM] [Warning] Unknown parameter: huber_delta\n",
      "[LightGBM] [Info] Start training from score 9.242772\n",
      "Training until validation scores don't improve for 200 rounds\n"
     ]
    },
    {
     "name": "stderr",
     "output_type": "stream",
     "text": [
      "/Users/shannenwibisono/anaconda3/lib/python3.11/site-packages/lightgbm/engine.py:204: UserWarning: Found `n_estimators` in params. Will use it instead of argument\n",
      "  _log_warning(f\"Found `{alias}` in params. Will use it instead of argument\")\n"
     ]
    },
    {
     "name": "stdout",
     "output_type": "stream",
     "text": [
      "Did not meet early stopping. Best iteration is:\n",
      "[2500]\ttrain's gamma: 9.08724\ttest's gamma: 8.97366\n",
      "Variation: BV | RMSE: 360.0668 | MAPE: 3.67%\n",
      "\n",
      "Testing with variation: RV\n",
      "[LightGBM] [Warning] Unknown parameter: huber_delta\n",
      "[LightGBM] [Warning] Unknown parameter: huber_delta\n",
      "[LightGBM] [Info] Auto-choosing col-wise multi-threading, the overhead of testing was 0.000307 seconds.\n",
      "You can set `force_col_wise=true` to remove the overhead.\n",
      "[LightGBM] [Info] Total Bins 1596\n",
      "[LightGBM] [Info] Number of data points in the train set: 8446, number of used features: 7\n",
      "[LightGBM] [Warning] Unknown parameter: huber_delta\n",
      "[LightGBM] [Info] Start training from score 9.242772\n",
      "Training until validation scores don't improve for 200 rounds\n"
     ]
    },
    {
     "name": "stderr",
     "output_type": "stream",
     "text": [
      "/Users/shannenwibisono/anaconda3/lib/python3.11/site-packages/lightgbm/engine.py:204: UserWarning: Found `n_estimators` in params. Will use it instead of argument\n",
      "  _log_warning(f\"Found `{alias}` in params. Will use it instead of argument\")\n"
     ]
    },
    {
     "name": "stdout",
     "output_type": "stream",
     "text": [
      "Did not meet early stopping. Best iteration is:\n",
      "[2500]\ttrain's gamma: 9.08722\ttest's gamma: 8.97372\n",
      "Variation: RV | RMSE: 351.9607 | MAPE: 3.63%\n",
      "All results saved to Excel file: /Users/shannenwibisono/Desktop/-SKRIPSI-/Results LGBM/Results_LightGBM_BTCPut_Variations.xlsx\n"
     ]
    }
   ],
   "source": [
    "# Loop through each variation\n",
    "for var_name, features in variations.items():\n",
    "    print(f\"\\nTesting with variation: {var_name}\")\n",
    "    \n",
    "    # Select relevant features\n",
    "    selected_features = ['Asset Price', 'Maturity', 'Strike'] + features\n",
    "    \n",
    "    # Prepare features and target\n",
    "    x_train = train_data_put[selected_features].values\n",
    "    y_train = train_data_put['Last'].values\n",
    "    x_test = test_data_put[selected_features].values\n",
    "    y_test = test_data_put['Last'].values\n",
    "    \n",
    "    # Create LightGBM datasets\n",
    "    train_set = lgb.Dataset(x_train, label=y_train)\n",
    "    test_set = lgb.Dataset(x_test, label=y_test, reference=train_set)\n",
    "    \n",
    "    # Train the model\n",
    "    model = lgb.train(\n",
    "        params, \n",
    "        train_set, \n",
    "        valid_sets=[train_set, test_set], \n",
    "        valid_names=[\"train\", \"test\"], \n",
    "        num_boost_round=2500\n",
    "    )\n",
    "    \n",
    "    # Make predictions\n",
    "    y_pred = model.predict(x_test, num_iteration=model.best_iteration)\n",
    "    \n",
    "    # Calculate RMSE and MAPE\n",
    "    rmse = mean_squared_error(y_test, y_pred, squared=False)\n",
    "    mape = np.mean(np.abs((y_test - y_pred) / y_test)) * 100\n",
    "    print(f\"Variation: {var_name} | RMSE: {rmse:.4f} | MAPE: {mape:.2f}%\")\n",
    "    \n",
    "    # Save results in a new sheet\n",
    "    results = pd.DataFrame({\n",
    "        'Date': test_data_put['Time'],  # Adjust 'Time' to your date column name\n",
    "        'Actual': y_test,\n",
    "        'Predicted': y_pred,\n",
    "        'RMSE': [rmse] * len(y_test),  # Add RMSE for consistency\n",
    "        'MAPE': [mape] * len(y_test)  # Add MAPE for consistency\n",
    "    })\n",
    "    \n",
    "    # Add summary results\n",
    "    ws_summary.append([var_name, rmse, mape])\n",
    "    \n",
    "    # Add sheet for this variation\n",
    "    ws = wb.create_sheet(title=var_name)\n",
    "    for r in dataframe_to_rows(results, index=False, header=True):\n",
    "        ws.append(r)\n",
    "\n",
    "# Save the workbook\n",
    "wb.save(output_file)\n",
    "print(f\"All results saved to Excel file: {output_file}\")"
   ]
  },
  {
   "cell_type": "code",
   "execution_count": null,
   "id": "22c07a6c",
   "metadata": {},
   "outputs": [],
   "source": []
  }
 ],
 "metadata": {
  "kernelspec": {
   "display_name": "Python 3 (ipykernel)",
   "language": "python",
   "name": "python3"
  },
  "language_info": {
   "codemirror_mode": {
    "name": "ipython",
    "version": 3
   },
   "file_extension": ".py",
   "mimetype": "text/x-python",
   "name": "python",
   "nbconvert_exporter": "python",
   "pygments_lexer": "ipython3",
   "version": "3.11.5"
  }
 },
 "nbformat": 4,
 "nbformat_minor": 5
}
