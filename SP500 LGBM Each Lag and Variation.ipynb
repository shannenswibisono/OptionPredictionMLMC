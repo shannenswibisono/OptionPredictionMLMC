{
 "cells": [
  {
   "cell_type": "code",
   "execution_count": 1,
   "id": "c0227012",
   "metadata": {},
   "outputs": [],
   "source": [
    "import pandas as pd\n",
    "import numpy as np\n",
    "import lightgbm as lgb\n",
    "from sklearn.metrics import mean_squared_error\n",
    "from openpyxl import Workbook\n",
    "from openpyxl.utils.dataframe import dataframe_to_rows"
   ]
  },
  {
   "cell_type": "code",
   "execution_count": null,
   "id": "028fb625",
   "metadata": {},
   "outputs": [],
   "source": [
    "#### CALL ####"
   ]
  },
  {
   "cell_type": "code",
   "execution_count": 5,
   "id": "08758913",
   "metadata": {},
   "outputs": [],
   "source": [
    "# Load training and testing data\n",
    "train_data = pd.read_excel(\"/Users/shannenwibisono/Desktop/-SKRIPSI-/S&P500/SP500 Training Testing.xlsx\", sheet_name=\"Training Data\")\n",
    "test_data = pd.read_excel(\"/Users/shannenwibisono/Desktop/-SKRIPSI-/S&P500/SP500 Training Testing.xlsx\", sheet_name=\"Testing Data\")"
   ]
  },
  {
   "cell_type": "code",
   "execution_count": 6,
   "id": "bdeb32f7",
   "metadata": {},
   "outputs": [],
   "source": [
    "# Define the LightGBM parameters\n",
    "params = {\n",
    "    'boost_from_average': True,\n",
    "    'colsample_bytree': 0.5,\n",
    "    'fair_c': 1,\n",
    "    'huber_delta': 1,\n",
    "    'learning_rate': 0.05,\n",
    "    'max_bin': 255,\n",
    "    'max_delta_step': 0.7,\n",
    "    'max_depth': -1,  # None is represented by -1 in LightGBM\n",
    "    'min_child_samples': 10,\n",
    "    'min_child_weight': 5,\n",
    "    'min_split_gain': 0,\n",
    "    'n_estimators': 2500,\n",
    "    'num_leaves': 64,\n",
    "    'objective': 'gamma',\n",
    "    'reg_alpha': 0,\n",
    "    'reg_lambda': 0,\n",
    "    'subsample': 1,\n",
    "    'subsample_for_bin': 50000,\n",
    "    'subsample_freq': 1,\n",
    "    'tweedie_variance_power': 1.5,\n",
    "    'early_stopping_round': 200  # Set early stopping in parameters\n",
    "}\n",
    "\n",
    "# Define lag configurations (individual testing)\n",
    "lags = {\n",
    "    'RVlag1': ['RVlag1'],\n",
    "    'RVlag7': ['RVlag7'],\n",
    "    'RVlag15': ['RVlag15'],\n",
    "    'RVlag30': ['RVlag30'],\n",
    "    'BVlag1': ['BVlag1'],\n",
    "    'BVlag7': ['BVlag7'],\n",
    "    'BVlag15': ['BVlag15'],\n",
    "    'BVlag30': ['BVlag30'],\n",
    "    'SJVlag7': ['SJVlag7'],\n",
    "    'SJVlag15': ['SJVlag15'],\n",
    "    'SJVlag30': ['SJVlag30']\n",
    "}"
   ]
  },
  {
   "cell_type": "code",
   "execution_count": 7,
   "id": "df873cef",
   "metadata": {},
   "outputs": [],
   "source": [
    "# Output file path\n",
    "output_file = \"/Users/shannenwibisono/Desktop/-SKRIPSI-/Results LGBM/Results_LightGBM_SPCall_All.xlsx\"\n",
    "\n",
    "# Create a workbook to save results\n",
    "wb = Workbook()\n",
    "ws_summary = wb.active\n",
    "ws_summary.title = \"Summary\"\n",
    "ws_summary.append([\"Lag\", \"RMSE\", \"MAPE\"])  # Add headers for summary"
   ]
  },
  {
   "cell_type": "code",
   "execution_count": 8,
   "id": "93f7179c",
   "metadata": {},
   "outputs": [
    {
     "name": "stdout",
     "output_type": "stream",
     "text": [
      "\n",
      "Testing with lag: RVlag1\n",
      "[LightGBM] [Warning] Unknown parameter: huber_delta\n",
      "[LightGBM] [Warning] Unknown parameter: huber_delta\n",
      "[LightGBM] [Info] Auto-choosing row-wise multi-threading, the overhead of testing was 0.000386 seconds.\n",
      "You can set `force_row_wise=true` to remove the overhead.\n",
      "And if memory is not enough, you can set `force_col_wise=true`.\n",
      "[LightGBM] [Info] Total Bins 983\n",
      "[LightGBM] [Info] Number of data points in the train set: 28473, number of used features: 4\n",
      "[LightGBM] [Warning] Unknown parameter: huber_delta\n",
      "[LightGBM] [Info] Start training from score 6.276901\n",
      "Training until validation scores don't improve for 200 rounds\n"
     ]
    },
    {
     "name": "stderr",
     "output_type": "stream",
     "text": [
      "/Users/shannenwibisono/anaconda3/lib/python3.11/site-packages/lightgbm/engine.py:204: UserWarning: Found `n_estimators` in params. Will use it instead of argument\n",
      "  _log_warning(f\"Found `{alias}` in params. Will use it instead of argument\")\n"
     ]
    },
    {
     "name": "stdout",
     "output_type": "stream",
     "text": [
      "Did not meet early stopping. Best iteration is:\n",
      "[2497]\ttrain's gamma: 5.66077\ttest's gamma: 5.69846\n",
      "Lag: RVlag1 | RMSE: 43.6796 | MAPE: 9.13%\n",
      "\n",
      "Testing with lag: RVlag7\n",
      "[LightGBM] [Warning] Unknown parameter: huber_delta\n",
      "[LightGBM] [Warning] Unknown parameter: huber_delta\n",
      "[LightGBM] [Info] Auto-choosing row-wise multi-threading, the overhead of testing was 0.000089 seconds.\n",
      "You can set `force_row_wise=true` to remove the overhead.\n",
      "And if memory is not enough, you can set `force_col_wise=true`.\n",
      "[LightGBM] [Info] Total Bins 981\n",
      "[LightGBM] [Info] Number of data points in the train set: 28473, number of used features: 4\n",
      "[LightGBM] [Warning] Unknown parameter: huber_delta\n",
      "[LightGBM] [Info] Start training from score 6.276901\n",
      "Training until validation scores don't improve for 200 rounds\n"
     ]
    },
    {
     "name": "stderr",
     "output_type": "stream",
     "text": [
      "/Users/shannenwibisono/anaconda3/lib/python3.11/site-packages/lightgbm/engine.py:204: UserWarning: Found `n_estimators` in params. Will use it instead of argument\n",
      "  _log_warning(f\"Found `{alias}` in params. Will use it instead of argument\")\n"
     ]
    },
    {
     "name": "stdout",
     "output_type": "stream",
     "text": [
      "Did not meet early stopping. Best iteration is:\n",
      "[2500]\ttrain's gamma: 5.6607\ttest's gamma: 5.6981\n",
      "Lag: RVlag7 | RMSE: 44.0288 | MAPE: 8.96%\n",
      "\n",
      "Testing with lag: RVlag15\n",
      "[LightGBM] [Warning] Unknown parameter: huber_delta\n",
      "[LightGBM] [Warning] Unknown parameter: huber_delta\n",
      "[LightGBM] [Info] Auto-choosing col-wise multi-threading, the overhead of testing was 0.000227 seconds.\n",
      "You can set `force_col_wise=true` to remove the overhead.\n",
      "[LightGBM] [Info] Total Bins 980\n",
      "[LightGBM] [Info] Number of data points in the train set: 28473, number of used features: 4\n",
      "[LightGBM] [Warning] Unknown parameter: huber_delta\n",
      "[LightGBM] [Info] Start training from score 6.276901\n",
      "Training until validation scores don't improve for 200 rounds\n"
     ]
    },
    {
     "name": "stderr",
     "output_type": "stream",
     "text": [
      "/Users/shannenwibisono/anaconda3/lib/python3.11/site-packages/lightgbm/engine.py:204: UserWarning: Found `n_estimators` in params. Will use it instead of argument\n",
      "  _log_warning(f\"Found `{alias}` in params. Will use it instead of argument\")\n"
     ]
    },
    {
     "name": "stdout",
     "output_type": "stream",
     "text": [
      "Did not meet early stopping. Best iteration is:\n",
      "[2497]\ttrain's gamma: 5.66067\ttest's gamma: 5.69803\n",
      "Lag: RVlag15 | RMSE: 45.1824 | MAPE: 8.95%\n",
      "\n",
      "Testing with lag: RVlag30\n",
      "[LightGBM] [Warning] Unknown parameter: huber_delta\n",
      "[LightGBM] [Warning] Unknown parameter: huber_delta\n",
      "[LightGBM] [Info] Auto-choosing row-wise multi-threading, the overhead of testing was 0.000086 seconds.\n",
      "You can set `force_row_wise=true` to remove the overhead.\n",
      "And if memory is not enough, you can set `force_col_wise=true`.\n",
      "[LightGBM] [Info] Total Bins 978\n",
      "[LightGBM] [Info] Number of data points in the train set: 28473, number of used features: 4\n",
      "[LightGBM] [Warning] Unknown parameter: huber_delta\n",
      "[LightGBM] [Info] Start training from score 6.276901\n",
      "Training until validation scores don't improve for 200 rounds\n"
     ]
    },
    {
     "name": "stderr",
     "output_type": "stream",
     "text": [
      "/Users/shannenwibisono/anaconda3/lib/python3.11/site-packages/lightgbm/engine.py:204: UserWarning: Found `n_estimators` in params. Will use it instead of argument\n",
      "  _log_warning(f\"Found `{alias}` in params. Will use it instead of argument\")\n"
     ]
    },
    {
     "name": "stdout",
     "output_type": "stream",
     "text": [
      "Did not meet early stopping. Best iteration is:\n",
      "[2498]\ttrain's gamma: 5.66066\ttest's gamma: 5.69815\n",
      "Lag: RVlag30 | RMSE: 44.0209 | MAPE: 8.90%\n",
      "\n",
      "Testing with lag: BVlag1\n",
      "[LightGBM] [Warning] Unknown parameter: huber_delta\n",
      "[LightGBM] [Warning] Unknown parameter: huber_delta\n",
      "[LightGBM] [Info] Auto-choosing row-wise multi-threading, the overhead of testing was 0.000172 seconds.\n",
      "You can set `force_row_wise=true` to remove the overhead.\n",
      "And if memory is not enough, you can set `force_col_wise=true`.\n",
      "[LightGBM] [Info] Total Bins 981\n",
      "[LightGBM] [Info] Number of data points in the train set: 28473, number of used features: 4\n",
      "[LightGBM] [Warning] Unknown parameter: huber_delta\n",
      "[LightGBM] [Info] Start training from score 6.276901\n",
      "Training until validation scores don't improve for 200 rounds\n"
     ]
    },
    {
     "name": "stderr",
     "output_type": "stream",
     "text": [
      "/Users/shannenwibisono/anaconda3/lib/python3.11/site-packages/lightgbm/engine.py:204: UserWarning: Found `n_estimators` in params. Will use it instead of argument\n",
      "  _log_warning(f\"Found `{alias}` in params. Will use it instead of argument\")\n"
     ]
    },
    {
     "name": "stdout",
     "output_type": "stream",
     "text": [
      "Did not meet early stopping. Best iteration is:\n",
      "[2500]\ttrain's gamma: 5.66076\ttest's gamma: 5.69845\n",
      "Lag: BVlag1 | RMSE: 43.8005 | MAPE: 9.12%\n",
      "\n",
      "Testing with lag: BVlag7\n",
      "[LightGBM] [Warning] Unknown parameter: huber_delta\n",
      "[LightGBM] [Warning] Unknown parameter: huber_delta\n",
      "[LightGBM] [Info] Auto-choosing row-wise multi-threading, the overhead of testing was 0.000097 seconds.\n",
      "You can set `force_row_wise=true` to remove the overhead.\n",
      "And if memory is not enough, you can set `force_col_wise=true`.\n",
      "[LightGBM] [Info] Total Bins 981\n",
      "[LightGBM] [Info] Number of data points in the train set: 28473, number of used features: 4\n",
      "[LightGBM] [Warning] Unknown parameter: huber_delta\n",
      "[LightGBM] [Info] Start training from score 6.276901\n",
      "Training until validation scores don't improve for 200 rounds\n"
     ]
    },
    {
     "name": "stderr",
     "output_type": "stream",
     "text": [
      "/Users/shannenwibisono/anaconda3/lib/python3.11/site-packages/lightgbm/engine.py:204: UserWarning: Found `n_estimators` in params. Will use it instead of argument\n",
      "  _log_warning(f\"Found `{alias}` in params. Will use it instead of argument\")\n"
     ]
    },
    {
     "name": "stdout",
     "output_type": "stream",
     "text": [
      "Did not meet early stopping. Best iteration is:\n",
      "[2497]\ttrain's gamma: 5.66061\ttest's gamma: 5.69799\n",
      "Lag: BVlag7 | RMSE: 44.4294 | MAPE: 8.90%\n",
      "\n",
      "Testing with lag: BVlag15\n",
      "[LightGBM] [Warning] Unknown parameter: huber_delta\n",
      "[LightGBM] [Warning] Unknown parameter: huber_delta\n",
      "[LightGBM] [Info] Auto-choosing row-wise multi-threading, the overhead of testing was 0.000101 seconds.\n",
      "You can set `force_row_wise=true` to remove the overhead.\n",
      "And if memory is not enough, you can set `force_col_wise=true`.\n",
      "[LightGBM] [Info] Total Bins 979\n",
      "[LightGBM] [Info] Number of data points in the train set: 28473, number of used features: 4\n",
      "[LightGBM] [Warning] Unknown parameter: huber_delta\n",
      "[LightGBM] [Info] Start training from score 6.276901\n",
      "Training until validation scores don't improve for 200 rounds\n"
     ]
    },
    {
     "name": "stderr",
     "output_type": "stream",
     "text": [
      "/Users/shannenwibisono/anaconda3/lib/python3.11/site-packages/lightgbm/engine.py:204: UserWarning: Found `n_estimators` in params. Will use it instead of argument\n",
      "  _log_warning(f\"Found `{alias}` in params. Will use it instead of argument\")\n"
     ]
    },
    {
     "name": "stdout",
     "output_type": "stream",
     "text": [
      "Did not meet early stopping. Best iteration is:\n",
      "[2500]\ttrain's gamma: 5.66059\ttest's gamma: 5.69807\n",
      "Lag: BVlag15 | RMSE: 43.6620 | MAPE: 8.86%\n",
      "\n",
      "Testing with lag: BVlag30\n",
      "[LightGBM] [Warning] Unknown parameter: huber_delta\n",
      "[LightGBM] [Warning] Unknown parameter: huber_delta\n",
      "[LightGBM] [Info] Auto-choosing row-wise multi-threading, the overhead of testing was 0.000085 seconds.\n",
      "You can set `force_row_wise=true` to remove the overhead.\n",
      "And if memory is not enough, you can set `force_col_wise=true`.\n",
      "[LightGBM] [Info] Total Bins 976\n",
      "[LightGBM] [Info] Number of data points in the train set: 28473, number of used features: 4\n",
      "[LightGBM] [Warning] Unknown parameter: huber_delta\n",
      "[LightGBM] [Info] Start training from score 6.276901\n",
      "Training until validation scores don't improve for 200 rounds\n"
     ]
    },
    {
     "name": "stderr",
     "output_type": "stream",
     "text": [
      "/Users/shannenwibisono/anaconda3/lib/python3.11/site-packages/lightgbm/engine.py:204: UserWarning: Found `n_estimators` in params. Will use it instead of argument\n",
      "  _log_warning(f\"Found `{alias}` in params. Will use it instead of argument\")\n"
     ]
    },
    {
     "name": "stdout",
     "output_type": "stream",
     "text": [
      "Did not meet early stopping. Best iteration is:\n",
      "[2500]\ttrain's gamma: 5.66056\ttest's gamma: 5.69776\n",
      "Lag: BVlag30 | RMSE: 43.0834 | MAPE: 8.72%\n",
      "\n",
      "Testing with lag: SJVlag7\n",
      "[LightGBM] [Warning] Unknown parameter: huber_delta\n",
      "[LightGBM] [Warning] Unknown parameter: huber_delta\n",
      "[LightGBM] [Info] Auto-choosing col-wise multi-threading, the overhead of testing was 0.000416 seconds.\n",
      "You can set `force_col_wise=true` to remove the overhead.\n",
      "[LightGBM] [Info] Total Bins 982\n",
      "[LightGBM] [Info] Number of data points in the train set: 28473, number of used features: 4\n",
      "[LightGBM] [Warning] Unknown parameter: huber_delta\n",
      "[LightGBM] [Info] Start training from score 6.276901\n",
      "Training until validation scores don't improve for 200 rounds\n"
     ]
    },
    {
     "name": "stderr",
     "output_type": "stream",
     "text": [
      "/Users/shannenwibisono/anaconda3/lib/python3.11/site-packages/lightgbm/engine.py:204: UserWarning: Found `n_estimators` in params. Will use it instead of argument\n",
      "  _log_warning(f\"Found `{alias}` in params. Will use it instead of argument\")\n"
     ]
    },
    {
     "name": "stdout",
     "output_type": "stream",
     "text": [
      "Did not meet early stopping. Best iteration is:\n",
      "[2497]\ttrain's gamma: 5.66074\ttest's gamma: 5.69832\n",
      "Lag: SJVlag7 | RMSE: 43.5880 | MAPE: 9.00%\n",
      "\n",
      "Testing with lag: SJVlag15\n",
      "[LightGBM] [Warning] Unknown parameter: huber_delta\n",
      "[LightGBM] [Warning] Unknown parameter: huber_delta\n",
      "[LightGBM] [Info] Auto-choosing row-wise multi-threading, the overhead of testing was 0.000088 seconds.\n",
      "You can set `force_row_wise=true` to remove the overhead.\n",
      "And if memory is not enough, you can set `force_col_wise=true`.\n",
      "[LightGBM] [Info] Total Bins 980\n",
      "[LightGBM] [Info] Number of data points in the train set: 28473, number of used features: 4\n",
      "[LightGBM] [Warning] Unknown parameter: huber_delta\n",
      "[LightGBM] [Info] Start training from score 6.276901\n",
      "Training until validation scores don't improve for 200 rounds\n"
     ]
    },
    {
     "name": "stderr",
     "output_type": "stream",
     "text": [
      "/Users/shannenwibisono/anaconda3/lib/python3.11/site-packages/lightgbm/engine.py:204: UserWarning: Found `n_estimators` in params. Will use it instead of argument\n",
      "  _log_warning(f\"Found `{alias}` in params. Will use it instead of argument\")\n"
     ]
    },
    {
     "name": "stdout",
     "output_type": "stream",
     "text": [
      "Did not meet early stopping. Best iteration is:\n",
      "[2500]\ttrain's gamma: 5.6606\ttest's gamma: 5.69799\n",
      "Lag: SJVlag15 | RMSE: 43.6710 | MAPE: 8.88%\n",
      "\n",
      "Testing with lag: SJVlag30\n",
      "[LightGBM] [Warning] Unknown parameter: huber_delta\n",
      "[LightGBM] [Warning] Unknown parameter: huber_delta\n",
      "[LightGBM] [Info] Auto-choosing row-wise multi-threading, the overhead of testing was 0.000102 seconds.\n",
      "You can set `force_row_wise=true` to remove the overhead.\n",
      "And if memory is not enough, you can set `force_col_wise=true`.\n",
      "[LightGBM] [Info] Total Bins 981\n",
      "[LightGBM] [Info] Number of data points in the train set: 28473, number of used features: 4\n",
      "[LightGBM] [Warning] Unknown parameter: huber_delta\n",
      "[LightGBM] [Info] Start training from score 6.276901\n",
      "Training until validation scores don't improve for 200 rounds\n"
     ]
    },
    {
     "name": "stderr",
     "output_type": "stream",
     "text": [
      "/Users/shannenwibisono/anaconda3/lib/python3.11/site-packages/lightgbm/engine.py:204: UserWarning: Found `n_estimators` in params. Will use it instead of argument\n",
      "  _log_warning(f\"Found `{alias}` in params. Will use it instead of argument\")\n"
     ]
    },
    {
     "name": "stdout",
     "output_type": "stream",
     "text": [
      "Did not meet early stopping. Best iteration is:\n",
      "[2500]\ttrain's gamma: 5.66064\ttest's gamma: 5.69799\n",
      "Lag: SJVlag30 | RMSE: 42.6483 | MAPE: 8.82%\n",
      "All results saved to Excel file: /Users/shannenwibisono/Desktop/-SKRIPSI-/Results LGBM/Results_LightGBM_SPCall_All.xlsx\n"
     ]
    }
   ],
   "source": [
    "# Loop through each lag configuration\n",
    "for lag_name, features in lags.items():\n",
    "    print(f\"\\nTesting with lag: {lag_name}\")\n",
    "    \n",
    "    # Select relevant features\n",
    "    selected_features = ['Price.', 'Maturity', 'Strike'] + features\n",
    "    \n",
    "    # Prepare features and target\n",
    "    x_train = train_data[selected_features].values\n",
    "    y_train = train_data['Last'].values\n",
    "    x_test = test_data[selected_features].values\n",
    "    y_test = test_data['Last'].values\n",
    "    \n",
    "    # Create LightGBM datasets\n",
    "    train_set = lgb.Dataset(x_train, label=y_train)\n",
    "    test_set = lgb.Dataset(x_test, label=y_test, reference=train_set)\n",
    "    \n",
    "    # Train the model\n",
    "    model = lgb.train(\n",
    "        params, \n",
    "        train_set, \n",
    "        valid_sets=[train_set, test_set], \n",
    "        valid_names=[\"train\", \"test\"], \n",
    "        num_boost_round=2500\n",
    "    )\n",
    "    \n",
    "    # Make predictions\n",
    "    y_pred = model.predict(x_test, num_iteration=model.best_iteration)\n",
    "    \n",
    "    # Calculate RMSE and MAPE\n",
    "    rmse = mean_squared_error(y_test, y_pred, squared=False)\n",
    "    mape = np.mean(np.abs((y_test - y_pred) / y_test)) * 100\n",
    "    print(f\"Lag: {lag_name} | RMSE: {rmse:.4f} | MAPE: {mape:.2f}%\")\n",
    "    \n",
    "    # Save results in a new sheet\n",
    "    results = pd.DataFrame({\n",
    "        'Date': test_data['Time'],  # Adjust 'Time' to your date column name\n",
    "        'Actual': y_test,\n",
    "        'Predicted': y_pred,\n",
    "        'RMSE': [rmse] * len(y_test),  # Add RMSE for consistency\n",
    "        'MAPE': [mape] * len(y_test)  # Add MAPE for consistency\n",
    "    })\n",
    "    \n",
    "    # Add summary results\n",
    "    ws_summary.append([lag_name, rmse, mape])\n",
    "    \n",
    "    # Add sheet for this lag\n",
    "    ws = wb.create_sheet(title=lag_name)\n",
    "    for r in dataframe_to_rows(results, index=False, header=True):\n",
    "        ws.append(r)\n",
    "\n",
    "# Save the workbook\n",
    "wb.save(output_file)\n",
    "print(f\"All results saved to Excel file: {output_file}\")"
   ]
  },
  {
   "cell_type": "code",
   "execution_count": null,
   "id": "2dba1f04",
   "metadata": {},
   "outputs": [],
   "source": [
    "### PUT ###"
   ]
  },
  {
   "cell_type": "code",
   "execution_count": 9,
   "id": "7ee3fd50",
   "metadata": {},
   "outputs": [],
   "source": [
    "# Read training and testing data for Put options\n",
    "train_data_put = pd.read_excel(\"/Users/shannenwibisono/Desktop/-SKRIPSI-/S&P500/SP500 Training Testing PUT.xlsx\", sheet_name=\"Training Data Put\")\n",
    "test_data_put = pd.read_excel(\"/Users/shannenwibisono/Desktop/-SKRIPSI-/S&P500/SP500 Training Testing PUT.xlsx\", sheet_name=\"Testing Data Put\")"
   ]
  },
  {
   "cell_type": "code",
   "execution_count": 10,
   "id": "335a6803",
   "metadata": {},
   "outputs": [],
   "source": [
    "# Define the LightGBM parameters\n",
    "params = {\n",
    "    'boost_from_average': True,\n",
    "    'colsample_bytree': 0.5,\n",
    "    'fair_c': 1,\n",
    "    'huber_delta': 1,\n",
    "    'learning_rate': 0.05,\n",
    "    'max_bin': 255,\n",
    "    'max_delta_step': 0.7,\n",
    "    'max_depth': -1,  # None is represented by -1 in LightGBM\n",
    "    'min_child_samples': 10,\n",
    "    'min_child_weight': 5,\n",
    "    'min_split_gain': 0,\n",
    "    'n_estimators': 2500,\n",
    "    'num_leaves': 16,\n",
    "    'objective': 'gamma',\n",
    "    'reg_alpha': 0,\n",
    "    'reg_lambda': 0,\n",
    "    'subsample': 1,\n",
    "    'subsample_for_bin': 50000,\n",
    "    'subsample_freq': 1,\n",
    "    'tweedie_variance_power': 1.5,\n",
    "    'early_stopping_round': 200  # Set early stopping in parameters\n",
    "}\n",
    "\n",
    "# Define lag configurations (individual testing)\n",
    "lags = {\n",
    "    'RVlag1': ['RVlag1'],\n",
    "    'RVlag7': ['RVlag7'],\n",
    "    'RVlag15': ['RVlag15'],\n",
    "    'RVlag30': ['RVlag30'],\n",
    "    'BVlag1': ['BVlag1'],\n",
    "    'BVlag7': ['BVlag7'],\n",
    "    'BVlag15': ['BVlag15'],\n",
    "    'BVlag30': ['BVlag30'],\n",
    "    'SJVlag7': ['SJVlag7'],\n",
    "    'SJVlag15': ['SJVlag15'],\n",
    "    'SJVlag30': ['SJVlag30']\n",
    "}"
   ]
  },
  {
   "cell_type": "code",
   "execution_count": 11,
   "id": "6bdc3783",
   "metadata": {},
   "outputs": [],
   "source": [
    "# Output file path\n",
    "output_file = \"/Users/shannenwibisono/Desktop/-SKRIPSI-/Results LGBM/Results_LightGBM_SPPut_All.xlsx\"\n",
    "\n",
    "# Create a workbook to save results\n",
    "wb = Workbook()\n",
    "ws_summary = wb.active\n",
    "ws_summary.title = \"Summary\"\n",
    "ws_summary.append([\"Lag\", \"RMSE\", \"MAPE\"])  # Add headers for summary"
   ]
  },
  {
   "cell_type": "code",
   "execution_count": 12,
   "id": "8dfa7a87",
   "metadata": {},
   "outputs": [
    {
     "name": "stdout",
     "output_type": "stream",
     "text": [
      "\n",
      "Testing with lag: RVlag1\n",
      "[LightGBM] [Warning] Unknown parameter: huber_delta\n",
      "[LightGBM] [Warning] Unknown parameter: huber_delta\n",
      "[LightGBM] [Info] Auto-choosing col-wise multi-threading, the overhead of testing was 0.000471 seconds.\n",
      "You can set `force_col_wise=true` to remove the overhead.\n",
      "[LightGBM] [Info] Total Bins 988\n",
      "[LightGBM] [Info] Number of data points in the train set: 38394, number of used features: 4\n",
      "[LightGBM] [Warning] Unknown parameter: huber_delta\n",
      "[LightGBM] [Info] Start training from score 4.684843\n",
      "Training until validation scores don't improve for 200 rounds\n"
     ]
    },
    {
     "name": "stderr",
     "output_type": "stream",
     "text": [
      "/Users/shannenwibisono/anaconda3/lib/python3.11/site-packages/lightgbm/engine.py:204: UserWarning: Found `n_estimators` in params. Will use it instead of argument\n",
      "  _log_warning(f\"Found `{alias}` in params. Will use it instead of argument\")\n"
     ]
    },
    {
     "name": "stdout",
     "output_type": "stream",
     "text": [
      "Did not meet early stopping. Best iteration is:\n",
      "[2500]\ttrain's gamma: 3.98478\ttest's gamma: 3.97509\n",
      "Lag: RVlag1 | RMSE: 26.1962 | MAPE: 12.01%\n",
      "\n",
      "Testing with lag: RVlag7\n",
      "[LightGBM] [Warning] Unknown parameter: huber_delta\n",
      "[LightGBM] [Warning] Unknown parameter: huber_delta\n",
      "[LightGBM] [Info] Auto-choosing row-wise multi-threading, the overhead of testing was 0.000164 seconds.\n",
      "You can set `force_row_wise=true` to remove the overhead.\n",
      "And if memory is not enough, you can set `force_col_wise=true`.\n",
      "[LightGBM] [Info] Total Bins 990\n",
      "[LightGBM] [Info] Number of data points in the train set: 38394, number of used features: 4\n",
      "[LightGBM] [Warning] Unknown parameter: huber_delta\n",
      "[LightGBM] [Info] Start training from score 4.684843\n",
      "Training until validation scores don't improve for 200 rounds\n"
     ]
    },
    {
     "name": "stderr",
     "output_type": "stream",
     "text": [
      "/Users/shannenwibisono/anaconda3/lib/python3.11/site-packages/lightgbm/engine.py:204: UserWarning: Found `n_estimators` in params. Will use it instead of argument\n",
      "  _log_warning(f\"Found `{alias}` in params. Will use it instead of argument\")\n"
     ]
    },
    {
     "name": "stdout",
     "output_type": "stream",
     "text": [
      "Did not meet early stopping. Best iteration is:\n",
      "[2500]\ttrain's gamma: 3.98469\ttest's gamma: 3.97512\n",
      "Lag: RVlag7 | RMSE: 28.0416 | MAPE: 11.95%\n",
      "\n",
      "Testing with lag: RVlag15\n",
      "[LightGBM] [Warning] Unknown parameter: huber_delta\n",
      "[LightGBM] [Warning] Unknown parameter: huber_delta\n",
      "[LightGBM] [Info] Auto-choosing col-wise multi-threading, the overhead of testing was 0.000268 seconds.\n",
      "You can set `force_col_wise=true` to remove the overhead.\n",
      "[LightGBM] [Info] Total Bins 989\n",
      "[LightGBM] [Info] Number of data points in the train set: 38394, number of used features: 4\n",
      "[LightGBM] [Warning] Unknown parameter: huber_delta\n",
      "[LightGBM] [Info] Start training from score 4.684843\n",
      "Training until validation scores don't improve for 200 rounds\n"
     ]
    },
    {
     "name": "stderr",
     "output_type": "stream",
     "text": [
      "/Users/shannenwibisono/anaconda3/lib/python3.11/site-packages/lightgbm/engine.py:204: UserWarning: Found `n_estimators` in params. Will use it instead of argument\n",
      "  _log_warning(f\"Found `{alias}` in params. Will use it instead of argument\")\n"
     ]
    },
    {
     "name": "stdout",
     "output_type": "stream",
     "text": [
      "Did not meet early stopping. Best iteration is:\n",
      "[2491]\ttrain's gamma: 3.98453\ttest's gamma: 3.9747\n",
      "Lag: RVlag15 | RMSE: 26.2875 | MAPE: 11.78%\n",
      "\n",
      "Testing with lag: RVlag30\n",
      "[LightGBM] [Warning] Unknown parameter: huber_delta\n",
      "[LightGBM] [Warning] Unknown parameter: huber_delta\n",
      "[LightGBM] [Info] Auto-choosing col-wise multi-threading, the overhead of testing was 0.000676 seconds.\n",
      "You can set `force_col_wise=true` to remove the overhead.\n",
      "[LightGBM] [Info] Total Bins 982\n",
      "[LightGBM] [Info] Number of data points in the train set: 38394, number of used features: 4\n",
      "[LightGBM] [Warning] Unknown parameter: huber_delta\n",
      "[LightGBM] [Info] Start training from score 4.684843\n",
      "Training until validation scores don't improve for 200 rounds\n"
     ]
    },
    {
     "name": "stderr",
     "output_type": "stream",
     "text": [
      "/Users/shannenwibisono/anaconda3/lib/python3.11/site-packages/lightgbm/engine.py:204: UserWarning: Found `n_estimators` in params. Will use it instead of argument\n",
      "  _log_warning(f\"Found `{alias}` in params. Will use it instead of argument\")\n"
     ]
    },
    {
     "name": "stdout",
     "output_type": "stream",
     "text": [
      "Did not meet early stopping. Best iteration is:\n",
      "[2500]\ttrain's gamma: 3.9844\ttest's gamma: 3.97486\n",
      "Lag: RVlag30 | RMSE: 25.3923 | MAPE: 11.79%\n",
      "\n",
      "Testing with lag: BVlag1\n",
      "[LightGBM] [Warning] Unknown parameter: huber_delta\n",
      "[LightGBM] [Warning] Unknown parameter: huber_delta\n",
      "[LightGBM] [Info] Auto-choosing row-wise multi-threading, the overhead of testing was 0.000175 seconds.\n",
      "You can set `force_row_wise=true` to remove the overhead.\n",
      "And if memory is not enough, you can set `force_col_wise=true`.\n",
      "[LightGBM] [Info] Total Bins 988\n",
      "[LightGBM] [Info] Number of data points in the train set: 38394, number of used features: 4\n",
      "[LightGBM] [Warning] Unknown parameter: huber_delta\n",
      "[LightGBM] [Info] Start training from score 4.684843\n",
      "Training until validation scores don't improve for 200 rounds\n"
     ]
    },
    {
     "name": "stderr",
     "output_type": "stream",
     "text": [
      "/Users/shannenwibisono/anaconda3/lib/python3.11/site-packages/lightgbm/engine.py:204: UserWarning: Found `n_estimators` in params. Will use it instead of argument\n",
      "  _log_warning(f\"Found `{alias}` in params. Will use it instead of argument\")\n"
     ]
    },
    {
     "name": "stdout",
     "output_type": "stream",
     "text": [
      "Did not meet early stopping. Best iteration is:\n",
      "[2500]\ttrain's gamma: 3.98465\ttest's gamma: 3.97496\n",
      "Lag: BVlag1 | RMSE: 26.0394 | MAPE: 11.93%\n",
      "\n",
      "Testing with lag: BVlag7\n",
      "[LightGBM] [Warning] Unknown parameter: huber_delta\n"
     ]
    },
    {
     "name": "stderr",
     "output_type": "stream",
     "text": [
      "/Users/shannenwibisono/anaconda3/lib/python3.11/site-packages/lightgbm/engine.py:204: UserWarning: Found `n_estimators` in params. Will use it instead of argument\n",
      "  _log_warning(f\"Found `{alias}` in params. Will use it instead of argument\")\n"
     ]
    },
    {
     "name": "stdout",
     "output_type": "stream",
     "text": [
      "[LightGBM] [Warning] Unknown parameter: huber_delta\n",
      "[LightGBM] [Info] Auto-choosing col-wise multi-threading, the overhead of testing was 0.000628 seconds.\n",
      "You can set `force_col_wise=true` to remove the overhead.\n",
      "[LightGBM] [Info] Total Bins 989\n",
      "[LightGBM] [Info] Number of data points in the train set: 38394, number of used features: 4\n",
      "[LightGBM] [Warning] Unknown parameter: huber_delta\n",
      "[LightGBM] [Info] Start training from score 4.684843\n",
      "Training until validation scores don't improve for 200 rounds\n",
      "Did not meet early stopping. Best iteration is:\n",
      "[2499]\ttrain's gamma: 3.98464\ttest's gamma: 3.97487\n",
      "Lag: BVlag7 | RMSE: 28.1588 | MAPE: 11.93%\n",
      "\n",
      "Testing with lag: BVlag15\n",
      "[LightGBM] [Warning] Unknown parameter: huber_delta\n",
      "[LightGBM] [Warning] Unknown parameter: huber_delta\n",
      "[LightGBM] [Info] Auto-choosing col-wise multi-threading, the overhead of testing was 0.000650 seconds.\n",
      "You can set `force_col_wise=true` to remove the overhead.\n",
      "[LightGBM] [Info] Total Bins 988\n",
      "[LightGBM] [Info] Number of data points in the train set: 38394, number of used features: 4\n",
      "[LightGBM] [Warning] Unknown parameter: huber_delta\n",
      "[LightGBM] [Info] Start training from score 4.684843\n",
      "Training until validation scores don't improve for 200 rounds\n"
     ]
    },
    {
     "name": "stderr",
     "output_type": "stream",
     "text": [
      "/Users/shannenwibisono/anaconda3/lib/python3.11/site-packages/lightgbm/engine.py:204: UserWarning: Found `n_estimators` in params. Will use it instead of argument\n",
      "  _log_warning(f\"Found `{alias}` in params. Will use it instead of argument\")\n"
     ]
    },
    {
     "name": "stdout",
     "output_type": "stream",
     "text": [
      "Did not meet early stopping. Best iteration is:\n",
      "[2499]\ttrain's gamma: 3.98444\ttest's gamma: 3.97463\n",
      "Lag: BVlag15 | RMSE: 26.4445 | MAPE: 11.75%\n",
      "\n",
      "Testing with lag: BVlag30\n",
      "[LightGBM] [Warning] Unknown parameter: huber_delta\n",
      "[LightGBM] [Warning] Unknown parameter: huber_delta\n",
      "[LightGBM] [Info] Auto-choosing col-wise multi-threading, the overhead of testing was 0.000621 seconds.\n",
      "You can set `force_col_wise=true` to remove the overhead.\n",
      "[LightGBM] [Info] Total Bins 984\n",
      "[LightGBM] [Info] Number of data points in the train set: 38394, number of used features: 4\n",
      "[LightGBM] [Warning] Unknown parameter: huber_delta\n",
      "[LightGBM] [Info] Start training from score 4.684843\n",
      "Training until validation scores don't improve for 200 rounds\n"
     ]
    },
    {
     "name": "stderr",
     "output_type": "stream",
     "text": [
      "/Users/shannenwibisono/anaconda3/lib/python3.11/site-packages/lightgbm/engine.py:204: UserWarning: Found `n_estimators` in params. Will use it instead of argument\n",
      "  _log_warning(f\"Found `{alias}` in params. Will use it instead of argument\")\n"
     ]
    },
    {
     "name": "stdout",
     "output_type": "stream",
     "text": [
      "Did not meet early stopping. Best iteration is:\n",
      "[2500]\ttrain's gamma: 3.98434\ttest's gamma: 3.97458\n",
      "Lag: BVlag30 | RMSE: 24.6263 | MAPE: 11.64%\n",
      "\n",
      "Testing with lag: SJVlag7\n",
      "[LightGBM] [Warning] Unknown parameter: huber_delta\n",
      "[LightGBM] [Warning] Unknown parameter: huber_delta\n",
      "[LightGBM] [Info] Auto-choosing col-wise multi-threading, the overhead of testing was 0.000490 seconds.\n",
      "You can set `force_col_wise=true` to remove the overhead.\n",
      "[LightGBM] [Info] Total Bins 987\n",
      "[LightGBM] [Info] Number of data points in the train set: 38394, number of used features: 4\n",
      "[LightGBM] [Warning] Unknown parameter: huber_delta\n",
      "[LightGBM] [Info] Start training from score 4.684843\n",
      "Training until validation scores don't improve for 200 rounds\n"
     ]
    },
    {
     "name": "stderr",
     "output_type": "stream",
     "text": [
      "/Users/shannenwibisono/anaconda3/lib/python3.11/site-packages/lightgbm/engine.py:204: UserWarning: Found `n_estimators` in params. Will use it instead of argument\n",
      "  _log_warning(f\"Found `{alias}` in params. Will use it instead of argument\")\n"
     ]
    },
    {
     "name": "stdout",
     "output_type": "stream",
     "text": [
      "Did not meet early stopping. Best iteration is:\n",
      "[2500]\ttrain's gamma: 3.98452\ttest's gamma: 3.97509\n",
      "Lag: SJVlag7 | RMSE: 27.5317 | MAPE: 11.93%\n",
      "\n",
      "Testing with lag: SJVlag15\n",
      "[LightGBM] [Warning] Unknown parameter: huber_delta\n",
      "[LightGBM] [Warning] Unknown parameter: huber_delta\n",
      "[LightGBM] [Info] Auto-choosing row-wise multi-threading, the overhead of testing was 0.000134 seconds.\n",
      "You can set `force_row_wise=true` to remove the overhead.\n",
      "And if memory is not enough, you can set `force_col_wise=true`.\n",
      "[LightGBM] [Info] Total Bins 985\n",
      "[LightGBM] [Info] Number of data points in the train set: 38394, number of used features: 4\n",
      "[LightGBM] [Warning] Unknown parameter: huber_delta\n",
      "[LightGBM] [Info] Start training from score 4.684843\n",
      "Training until validation scores don't improve for 200 rounds\n"
     ]
    },
    {
     "name": "stderr",
     "output_type": "stream",
     "text": [
      "/Users/shannenwibisono/anaconda3/lib/python3.11/site-packages/lightgbm/engine.py:204: UserWarning: Found `n_estimators` in params. Will use it instead of argument\n",
      "  _log_warning(f\"Found `{alias}` in params. Will use it instead of argument\")\n"
     ]
    },
    {
     "name": "stdout",
     "output_type": "stream",
     "text": [
      "Did not meet early stopping. Best iteration is:\n",
      "[2499]\ttrain's gamma: 3.9846\ttest's gamma: 3.97496\n",
      "Lag: SJVlag15 | RMSE: 25.6245 | MAPE: 11.95%\n",
      "\n",
      "Testing with lag: SJVlag30\n",
      "[LightGBM] [Warning] Unknown parameter: huber_delta\n",
      "[LightGBM] [Warning] Unknown parameter: huber_delta\n",
      "[LightGBM] [Info] Auto-choosing col-wise multi-threading, the overhead of testing was 0.000285 seconds.\n",
      "You can set `force_col_wise=true` to remove the overhead.\n",
      "[LightGBM] [Info] Total Bins 985\n",
      "[LightGBM] [Info] Number of data points in the train set: 38394, number of used features: 4\n",
      "[LightGBM] [Warning] Unknown parameter: huber_delta\n",
      "[LightGBM] [Info] Start training from score 4.684843\n",
      "Training until validation scores don't improve for 200 rounds\n"
     ]
    },
    {
     "name": "stderr",
     "output_type": "stream",
     "text": [
      "/Users/shannenwibisono/anaconda3/lib/python3.11/site-packages/lightgbm/engine.py:204: UserWarning: Found `n_estimators` in params. Will use it instead of argument\n",
      "  _log_warning(f\"Found `{alias}` in params. Will use it instead of argument\")\n"
     ]
    },
    {
     "name": "stdout",
     "output_type": "stream",
     "text": [
      "Did not meet early stopping. Best iteration is:\n",
      "[2500]\ttrain's gamma: 3.98458\ttest's gamma: 3.97492\n",
      "Lag: SJVlag30 | RMSE: 25.9610 | MAPE: 11.95%\n",
      "All results saved to Excel file: /Users/shannenwibisono/Desktop/-SKRIPSI-/Results LGBM/Results_LightGBM_SPPut_All.xlsx\n"
     ]
    }
   ],
   "source": [
    "# Loop through each lag configuration\n",
    "for lag_name, features in lags.items():\n",
    "    print(f\"\\nTesting with lag: {lag_name}\")\n",
    "    \n",
    "    # Select relevant features\n",
    "    selected_features = ['Price.', 'Maturity', 'Strike'] + features\n",
    "    \n",
    "    # Prepare features and target\n",
    "    x_train = train_data_put[selected_features].values\n",
    "    y_train = train_data_put['Last'].values\n",
    "    x_test = test_data_put[selected_features].values\n",
    "    y_test = test_data_put['Last'].values\n",
    "    \n",
    "    # Create LightGBM datasets\n",
    "    train_set = lgb.Dataset(x_train, label=y_train)\n",
    "    test_set = lgb.Dataset(x_test, label=y_test, reference=train_set)\n",
    "    \n",
    "    # Train the model\n",
    "    model = lgb.train(\n",
    "        params, \n",
    "        train_set, \n",
    "        valid_sets=[train_set, test_set], \n",
    "        valid_names=[\"train\", \"test\"], \n",
    "        num_boost_round=2500\n",
    "    )\n",
    "    \n",
    "    # Make predictions\n",
    "    y_pred = model.predict(x_test, num_iteration=model.best_iteration)\n",
    "    \n",
    "    # Calculate RMSE and MAPE\n",
    "    rmse = mean_squared_error(y_test, y_pred, squared=False)\n",
    "    mape = np.mean(np.abs((y_test - y_pred) / y_test)) * 100\n",
    "    print(f\"Lag: {lag_name} | RMSE: {rmse:.4f} | MAPE: {mape:.2f}%\")\n",
    "    \n",
    "    # Save results in a new sheet\n",
    "    results = pd.DataFrame({\n",
    "        'Date': test_data_put['Time'],  # Adjust 'Time' to your date column name\n",
    "        'Actual': y_test,\n",
    "        'Predicted': y_pred,\n",
    "        'RMSE': [rmse] * len(y_test),  # Add RMSE for consistency\n",
    "        'MAPE': [mape] * len(y_test)  # Add MAPE for consistency\n",
    "    })\n",
    "    \n",
    "    # Add summary results\n",
    "    ws_summary.append([lag_name, rmse, mape])\n",
    "    \n",
    "    # Add sheet for this lag\n",
    "    ws = wb.create_sheet(title=lag_name)\n",
    "    for r in dataframe_to_rows(results, index=False, header=True):\n",
    "        ws.append(r)\n",
    "\n",
    "# Save the workbook\n",
    "wb.save(output_file)\n",
    "print(f\"All results saved to Excel file: {output_file}\")"
   ]
  },
  {
   "cell_type": "code",
   "execution_count": null,
   "id": "36d933f4",
   "metadata": {},
   "outputs": [],
   "source": []
  }
 ],
 "metadata": {
  "kernelspec": {
   "display_name": "Python 3 (ipykernel)",
   "language": "python",
   "name": "python3"
  },
  "language_info": {
   "codemirror_mode": {
    "name": "ipython",
    "version": 3
   },
   "file_extension": ".py",
   "mimetype": "text/x-python",
   "name": "python",
   "nbconvert_exporter": "python",
   "pygments_lexer": "ipython3",
   "version": "3.11.5"
  }
 },
 "nbformat": 4,
 "nbformat_minor": 5
}
