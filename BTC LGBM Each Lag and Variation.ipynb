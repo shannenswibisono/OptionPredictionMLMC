{
 "cells": [
  {
   "cell_type": "code",
   "execution_count": 1,
   "id": "1b6eea15",
   "metadata": {},
   "outputs": [],
   "source": [
    "import pandas as pd\n",
    "import numpy as np\n",
    "import lightgbm as lgb\n",
    "from sklearn.metrics import mean_squared_error\n",
    "from openpyxl import Workbook\n",
    "from openpyxl.utils.dataframe import dataframe_to_rows"
   ]
  },
  {
   "cell_type": "code",
   "execution_count": null,
   "id": "5e9d0dd0",
   "metadata": {},
   "outputs": [],
   "source": [
    "#### CALL OPTIONS ####"
   ]
  },
  {
   "cell_type": "code",
   "execution_count": 2,
   "id": "1a13710c",
   "metadata": {},
   "outputs": [],
   "source": [
    "# Load the training and testing data\n",
    "train_data = pd.read_excel(\"/Users/shannenwibisono/Desktop/-SKRIPSI-/Bitcoin/Bitcoin Training Testing Call.xlsx\", sheet_name=\"Training Data Call\")\n",
    "test_data = pd.read_excel(\"/Users/shannenwibisono/Desktop/-SKRIPSI-/Bitcoin/Bitcoin Training Testing Call.xlsx\", sheet_name=\"Testing Data Call\")"
   ]
  },
  {
   "cell_type": "code",
   "execution_count": 3,
   "id": "5db667c4",
   "metadata": {},
   "outputs": [],
   "source": [
    "# Define the LightGBM parameters\n",
    "params = {\n",
    "    'boost_from_average': True,\n",
    "    'colsample_bytree': 0.5,\n",
    "    'fair_c': 1,\n",
    "    'huber_delta': 1,\n",
    "    'learning_rate': 0.05,\n",
    "    'max_bin': 255,\n",
    "    'max_delta_step': 0.7,\n",
    "    'max_depth': -1,  # None is represented by -1 in LightGBM\n",
    "    'min_child_samples': 10,\n",
    "    'min_child_weight': 5,\n",
    "    'min_split_gain': 0,\n",
    "    'n_estimators': 2500,\n",
    "    'num_leaves': 16,\n",
    "    'objective': 'gamma',\n",
    "    'reg_alpha': 0,\n",
    "    'reg_lambda': 0,\n",
    "    'subsample': 1,\n",
    "    'subsample_for_bin': 50000,\n",
    "    'subsample_freq': 1,\n",
    "    'tweedie_variance_power': 1.5,\n",
    "    'early_stopping_round': 200  # Set early stopping in parameters\n",
    "}\n",
    "\n",
    "\n",
    "# Define lag configurations (individual testing)\n",
    "lags = {\n",
    "    'RVlag1': ['RVlag1'],\n",
    "    'RVlag7': ['RVlag7'],\n",
    "    'RVlag15': ['RVlag15'],\n",
    "    'RVlag30': ['RVlag30'],\n",
    "    'BVlag1': ['BVlag1'],\n",
    "    'BVlag7': ['BVlag7'],\n",
    "    'BVlag15': ['BVlag15'],\n",
    "    'BVlag30': ['BVlag30'],\n",
    "    'SJVlag7': ['SJVlag7'],\n",
    "    'SJVlag15': ['SJVlag15'],\n",
    "    'SJVlag30': ['SJVlag30']\n",
    "}"
   ]
  },
  {
   "cell_type": "code",
   "execution_count": 4,
   "id": "7d7efae8",
   "metadata": {},
   "outputs": [],
   "source": [
    "# Output file path\n",
    "output_file = \"/Users/shannenwibisono/Desktop/-SKRIPSI-/Results LGBM/Results_LightGBM_BTCCall_All.xlsx\"\n",
    "\n",
    "# Create a workbook to save results\n",
    "wb = Workbook()\n",
    "ws_summary = wb.active\n",
    "ws_summary.title = \"Summary\"\n",
    "ws_summary.append([\"Lag\", \"RMSE\", \"MAPE\"])  # Add headers for summary"
   ]
  },
  {
   "cell_type": "code",
   "execution_count": 5,
   "id": "351f811a",
   "metadata": {},
   "outputs": [
    {
     "name": "stdout",
     "output_type": "stream",
     "text": [
      "\n",
      "Testing with lag: RVlag1\n",
      "[LightGBM] [Warning] Unknown parameter: huber_delta\n",
      "[LightGBM] [Warning] Unknown parameter: huber_delta\n",
      "[LightGBM] [Info] Auto-choosing row-wise multi-threading, the overhead of testing was 0.000310 seconds.\n",
      "You can set `force_row_wise=true` to remove the overhead.\n",
      "And if memory is not enough, you can set `force_col_wise=true`.\n",
      "[LightGBM] [Info] Total Bins 830\n",
      "[LightGBM] [Info] Number of data points in the train set: 8228, number of used features: 4\n",
      "[LightGBM] [Warning] Unknown parameter: huber_delta\n",
      "[LightGBM] [Info] Start training from score 9.399805\n",
      "Training until validation scores don't improve for 200 rounds\n"
     ]
    },
    {
     "name": "stderr",
     "output_type": "stream",
     "text": [
      "/Users/shannenwibisono/anaconda3/lib/python3.11/site-packages/lightgbm/engine.py:204: UserWarning: Found `n_estimators` in params. Will use it instead of argument\n",
      "  _log_warning(f\"Found `{alias}` in params. Will use it instead of argument\")\n"
     ]
    },
    {
     "name": "stdout",
     "output_type": "stream",
     "text": [
      "Did not meet early stopping. Best iteration is:\n",
      "[2500]\ttrain's gamma: 9.77743\ttest's gamma: 9.79769\n",
      "Lag: RVlag1 | RMSE: 343.2638 | MAPE: 2.40%\n",
      "\n",
      "Testing with lag: RVlag7\n",
      "[LightGBM] [Warning] Unknown parameter: huber_delta\n",
      "[LightGBM] [Warning] Unknown parameter: huber_delta\n",
      "[LightGBM] [Info] Auto-choosing row-wise multi-threading, the overhead of testing was 0.000104 seconds.\n",
      "You can set `force_row_wise=true` to remove the overhead.\n",
      "And if memory is not enough, you can set `force_col_wise=true`.\n",
      "[LightGBM] [Info] Total Bins 829\n",
      "[LightGBM] [Info] Number of data points in the train set: 8228, number of used features: 4\n",
      "[LightGBM] [Warning] Unknown parameter: huber_delta\n",
      "[LightGBM] [Info] Start training from score 9.399805\n",
      "Training until validation scores don't improve for 200 rounds\n"
     ]
    },
    {
     "name": "stderr",
     "output_type": "stream",
     "text": [
      "/Users/shannenwibisono/anaconda3/lib/python3.11/site-packages/lightgbm/engine.py:204: UserWarning: Found `n_estimators` in params. Will use it instead of argument\n",
      "  _log_warning(f\"Found `{alias}` in params. Will use it instead of argument\")\n"
     ]
    },
    {
     "name": "stdout",
     "output_type": "stream",
     "text": [
      "Did not meet early stopping. Best iteration is:\n",
      "[2500]\ttrain's gamma: 9.77746\ttest's gamma: 9.79788\n",
      "Lag: RVlag7 | RMSE: 348.3840 | MAPE: 2.54%\n",
      "\n",
      "Testing with lag: RVlag15\n",
      "[LightGBM] [Warning] Unknown parameter: huber_delta\n",
      "[LightGBM] [Warning] Unknown parameter: huber_delta\n",
      "[LightGBM] [Info] Auto-choosing col-wise multi-threading, the overhead of testing was 0.000167 seconds.\n",
      "You can set `force_col_wise=true` to remove the overhead.\n",
      "[LightGBM] [Info] Total Bins 830\n",
      "[LightGBM] [Info] Number of data points in the train set: 8228, number of used features: 4\n",
      "[LightGBM] [Warning] Unknown parameter: huber_delta\n",
      "[LightGBM] [Info] Start training from score 9.399805\n",
      "Training until validation scores don't improve for 200 rounds\n"
     ]
    },
    {
     "name": "stderr",
     "output_type": "stream",
     "text": [
      "/Users/shannenwibisono/anaconda3/lib/python3.11/site-packages/lightgbm/engine.py:204: UserWarning: Found `n_estimators` in params. Will use it instead of argument\n",
      "  _log_warning(f\"Found `{alias}` in params. Will use it instead of argument\")\n"
     ]
    },
    {
     "name": "stdout",
     "output_type": "stream",
     "text": [
      "Did not meet early stopping. Best iteration is:\n",
      "[2499]\ttrain's gamma: 9.77745\ttest's gamma: 9.79763\n",
      "Lag: RVlag15 | RMSE: 351.4909 | MAPE: 2.34%\n",
      "\n",
      "Testing with lag: RVlag30\n",
      "[LightGBM] [Warning] Unknown parameter: huber_delta\n",
      "[LightGBM] [Warning] Unknown parameter: huber_delta\n",
      "[LightGBM] [Info] Auto-choosing col-wise multi-threading, the overhead of testing was 0.000112 seconds.\n",
      "You can set `force_col_wise=true` to remove the overhead.\n",
      "[LightGBM] [Info] Total Bins 829\n",
      "[LightGBM] [Info] Number of data points in the train set: 8228, number of used features: 4\n",
      "[LightGBM] [Warning] Unknown parameter: huber_delta\n",
      "[LightGBM] [Info] Start training from score 9.399805\n",
      "Training until validation scores don't improve for 200 rounds\n"
     ]
    },
    {
     "name": "stderr",
     "output_type": "stream",
     "text": [
      "/Users/shannenwibisono/anaconda3/lib/python3.11/site-packages/lightgbm/engine.py:204: UserWarning: Found `n_estimators` in params. Will use it instead of argument\n",
      "  _log_warning(f\"Found `{alias}` in params. Will use it instead of argument\")\n"
     ]
    },
    {
     "name": "stdout",
     "output_type": "stream",
     "text": [
      "Did not meet early stopping. Best iteration is:\n",
      "[2497]\ttrain's gamma: 9.77743\ttest's gamma: 9.79769\n",
      "Lag: RVlag30 | RMSE: 344.4443 | MAPE: 2.34%\n",
      "\n",
      "Testing with lag: BVlag1\n",
      "[LightGBM] [Warning] Unknown parameter: huber_delta\n"
     ]
    },
    {
     "name": "stderr",
     "output_type": "stream",
     "text": [
      "/Users/shannenwibisono/anaconda3/lib/python3.11/site-packages/lightgbm/engine.py:204: UserWarning: Found `n_estimators` in params. Will use it instead of argument\n",
      "  _log_warning(f\"Found `{alias}` in params. Will use it instead of argument\")\n"
     ]
    },
    {
     "name": "stdout",
     "output_type": "stream",
     "text": [
      "[LightGBM] [Warning] Unknown parameter: huber_delta\n",
      "[LightGBM] [Info] Auto-choosing col-wise multi-threading, the overhead of testing was 0.000194 seconds.\n",
      "You can set `force_col_wise=true` to remove the overhead.\n",
      "[LightGBM] [Info] Total Bins 830\n",
      "[LightGBM] [Info] Number of data points in the train set: 8228, number of used features: 4\n",
      "[LightGBM] [Warning] Unknown parameter: huber_delta\n",
      "[LightGBM] [Info] Start training from score 9.399805\n",
      "Training until validation scores don't improve for 200 rounds\n",
      "Did not meet early stopping. Best iteration is:\n",
      "[2500]\ttrain's gamma: 9.77745\ttest's gamma: 9.79769\n",
      "Lag: BVlag1 | RMSE: 366.2200 | MAPE: 2.34%\n",
      "\n",
      "Testing with lag: BVlag7\n",
      "[LightGBM] [Warning] Unknown parameter: huber_delta\n",
      "[LightGBM] [Warning] Unknown parameter: huber_delta\n",
      "[LightGBM] [Info] Auto-choosing col-wise multi-threading, the overhead of testing was 0.000095 seconds.\n",
      "You can set `force_col_wise=true` to remove the overhead.\n",
      "[LightGBM] [Info] Total Bins 830\n",
      "[LightGBM] [Info] Number of data points in the train set: 8228, number of used features: 4\n",
      "[LightGBM] [Warning] Unknown parameter: huber_delta\n",
      "[LightGBM] [Info] Start training from score 9.399805\n",
      "Training until validation scores don't improve for 200 rounds\n"
     ]
    },
    {
     "name": "stderr",
     "output_type": "stream",
     "text": [
      "/Users/shannenwibisono/anaconda3/lib/python3.11/site-packages/lightgbm/engine.py:204: UserWarning: Found `n_estimators` in params. Will use it instead of argument\n",
      "  _log_warning(f\"Found `{alias}` in params. Will use it instead of argument\")\n"
     ]
    },
    {
     "name": "stdout",
     "output_type": "stream",
     "text": [
      "Did not meet early stopping. Best iteration is:\n",
      "[2499]\ttrain's gamma: 9.77747\ttest's gamma: 9.79773\n",
      "Lag: BVlag7 | RMSE: 367.3920 | MAPE: 2.45%\n",
      "\n",
      "Testing with lag: BVlag15\n",
      "[LightGBM] [Warning] Unknown parameter: huber_delta\n",
      "[LightGBM] [Warning] Unknown parameter: huber_delta\n",
      "[LightGBM] [Info] Auto-choosing col-wise multi-threading, the overhead of testing was 0.000125 seconds.\n",
      "You can set `force_col_wise=true` to remove the overhead.\n",
      "[LightGBM] [Info] Total Bins 830\n",
      "[LightGBM] [Info] Number of data points in the train set: 8228, number of used features: 4\n",
      "[LightGBM] [Warning] Unknown parameter: huber_delta\n",
      "[LightGBM] [Info] Start training from score 9.399805\n",
      "Training until validation scores don't improve for 200 rounds\n"
     ]
    },
    {
     "name": "stderr",
     "output_type": "stream",
     "text": [
      "/Users/shannenwibisono/anaconda3/lib/python3.11/site-packages/lightgbm/engine.py:204: UserWarning: Found `n_estimators` in params. Will use it instead of argument\n",
      "  _log_warning(f\"Found `{alias}` in params. Will use it instead of argument\")\n"
     ]
    },
    {
     "name": "stdout",
     "output_type": "stream",
     "text": [
      "Did not meet early stopping. Best iteration is:\n",
      "[2500]\ttrain's gamma: 9.77747\ttest's gamma: 9.79772\n",
      "Lag: BVlag15 | RMSE: 345.6674 | MAPE: 2.43%\n",
      "\n",
      "Testing with lag: BVlag30\n",
      "[LightGBM] [Warning] Unknown parameter: huber_delta\n",
      "[LightGBM] [Warning] Unknown parameter: huber_delta\n",
      "[LightGBM] [Info] Auto-choosing row-wise multi-threading, the overhead of testing was 0.000040 seconds.\n",
      "You can set `force_row_wise=true` to remove the overhead.\n",
      "And if memory is not enough, you can set `force_col_wise=true`.\n",
      "[LightGBM] [Info] Total Bins 830\n",
      "[LightGBM] [Info] Number of data points in the train set: 8228, number of used features: 4\n",
      "[LightGBM] [Warning] Unknown parameter: huber_delta\n",
      "[LightGBM] [Info] Start training from score 9.399805\n",
      "Training until validation scores don't improve for 200 rounds\n"
     ]
    },
    {
     "name": "stderr",
     "output_type": "stream",
     "text": [
      "/Users/shannenwibisono/anaconda3/lib/python3.11/site-packages/lightgbm/engine.py:204: UserWarning: Found `n_estimators` in params. Will use it instead of argument\n",
      "  _log_warning(f\"Found `{alias}` in params. Will use it instead of argument\")\n"
     ]
    },
    {
     "name": "stdout",
     "output_type": "stream",
     "text": [
      "Did not meet early stopping. Best iteration is:\n",
      "[2499]\ttrain's gamma: 9.77744\ttest's gamma: 9.79772\n",
      "Lag: BVlag30 | RMSE: 352.0816 | MAPE: 2.36%\n",
      "\n",
      "Testing with lag: SJVlag7\n",
      "[LightGBM] [Warning] Unknown parameter: huber_delta\n",
      "[LightGBM] [Warning] Unknown parameter: huber_delta\n",
      "[LightGBM] [Info] Auto-choosing row-wise multi-threading, the overhead of testing was 0.000040 seconds.\n",
      "You can set `force_row_wise=true` to remove the overhead.\n",
      "And if memory is not enough, you can set `force_col_wise=true`.\n",
      "[LightGBM] [Info] Total Bins 830\n",
      "[LightGBM] [Info] Number of data points in the train set: 8228, number of used features: 4\n",
      "[LightGBM] [Warning] Unknown parameter: huber_delta\n",
      "[LightGBM] [Info] Start training from score 9.399805\n",
      "Training until validation scores don't improve for 200 rounds\n"
     ]
    },
    {
     "name": "stderr",
     "output_type": "stream",
     "text": [
      "/Users/shannenwibisono/anaconda3/lib/python3.11/site-packages/lightgbm/engine.py:204: UserWarning: Found `n_estimators` in params. Will use it instead of argument\n",
      "  _log_warning(f\"Found `{alias}` in params. Will use it instead of argument\")\n"
     ]
    },
    {
     "name": "stdout",
     "output_type": "stream",
     "text": [
      "Did not meet early stopping. Best iteration is:\n",
      "[2500]\ttrain's gamma: 9.77743\ttest's gamma: 9.79767\n",
      "Lag: SJVlag7 | RMSE: 365.1132 | MAPE: 2.34%\n",
      "\n",
      "Testing with lag: SJVlag15\n",
      "[LightGBM] [Warning] Unknown parameter: huber_delta\n",
      "[LightGBM] [Warning] Unknown parameter: huber_delta\n",
      "[LightGBM] [Info] Auto-choosing row-wise multi-threading, the overhead of testing was 0.000040 seconds.\n",
      "You can set `force_row_wise=true` to remove the overhead.\n",
      "And if memory is not enough, you can set `force_col_wise=true`.\n",
      "[LightGBM] [Info] Total Bins 829\n",
      "[LightGBM] [Info] Number of data points in the train set: 8228, number of used features: 4\n",
      "[LightGBM] [Warning] Unknown parameter: huber_delta\n",
      "[LightGBM] [Info] Start training from score 9.399805\n",
      "Training until validation scores don't improve for 200 rounds\n"
     ]
    },
    {
     "name": "stderr",
     "output_type": "stream",
     "text": [
      "/Users/shannenwibisono/anaconda3/lib/python3.11/site-packages/lightgbm/engine.py:204: UserWarning: Found `n_estimators` in params. Will use it instead of argument\n",
      "  _log_warning(f\"Found `{alias}` in params. Will use it instead of argument\")\n"
     ]
    },
    {
     "name": "stdout",
     "output_type": "stream",
     "text": [
      "Did not meet early stopping. Best iteration is:\n",
      "[2499]\ttrain's gamma: 9.77748\ttest's gamma: 9.79783\n",
      "Lag: SJVlag15 | RMSE: 381.2782 | MAPE: 2.47%\n",
      "\n",
      "Testing with lag: SJVlag30\n",
      "[LightGBM] [Warning] Unknown parameter: huber_delta\n",
      "[LightGBM] [Warning] Unknown parameter: huber_delta\n",
      "[LightGBM] [Info] Auto-choosing col-wise multi-threading, the overhead of testing was 0.000076 seconds.\n",
      "You can set `force_col_wise=true` to remove the overhead.\n",
      "[LightGBM] [Info] Total Bins 827\n",
      "[LightGBM] [Info] Number of data points in the train set: 8228, number of used features: 4\n",
      "[LightGBM] [Warning] Unknown parameter: huber_delta\n",
      "[LightGBM] [Info] Start training from score 9.399805\n",
      "Training until validation scores don't improve for 200 rounds\n"
     ]
    },
    {
     "name": "stderr",
     "output_type": "stream",
     "text": [
      "/Users/shannenwibisono/anaconda3/lib/python3.11/site-packages/lightgbm/engine.py:204: UserWarning: Found `n_estimators` in params. Will use it instead of argument\n",
      "  _log_warning(f\"Found `{alias}` in params. Will use it instead of argument\")\n"
     ]
    },
    {
     "name": "stdout",
     "output_type": "stream",
     "text": [
      "Did not meet early stopping. Best iteration is:\n",
      "[2499]\ttrain's gamma: 9.77741\ttest's gamma: 9.79775\n",
      "Lag: SJVlag30 | RMSE: 320.9626 | MAPE: 2.25%\n",
      "All results saved to Excel file: /Users/shannenwibisono/Desktop/-SKRIPSI-/Results LGBM/Results_LightGBM_BTCCall_All.xlsx\n"
     ]
    }
   ],
   "source": [
    "# Loop through each lag configuration\n",
    "for lag_name, features in lags.items():\n",
    "    print(f\"\\nTesting with lag: {lag_name}\")\n",
    "    \n",
    "    # Select relevant features\n",
    "    selected_features = ['Asset Price', 'Maturity', 'Strike'] + features\n",
    "    \n",
    "    # Prepare features and target\n",
    "    x_train = train_data[selected_features].values\n",
    "    y_train = train_data['Last'].values\n",
    "    x_test = test_data[selected_features].values\n",
    "    y_test = test_data['Last'].values\n",
    "    \n",
    "    # Create LightGBM datasets\n",
    "    train_set = lgb.Dataset(x_train, label=y_train)\n",
    "    test_set = lgb.Dataset(x_test, label=y_test, reference=train_set)\n",
    "    \n",
    "    # Train the model\n",
    "    model = lgb.train(\n",
    "        params, \n",
    "        train_set, \n",
    "        valid_sets=[train_set, test_set], \n",
    "        valid_names=[\"train\", \"test\"], \n",
    "        num_boost_round=2500\n",
    "    )\n",
    "    \n",
    "    # Make predictions\n",
    "    y_pred = model.predict(x_test, num_iteration=model.best_iteration)\n",
    "    \n",
    "    # Calculate RMSE and MAPE\n",
    "    rmse = mean_squared_error(y_test, y_pred, squared=False)\n",
    "    mape = np.mean(np.abs((y_test - y_pred) / y_test)) * 100\n",
    "    print(f\"Lag: {lag_name} | RMSE: {rmse:.4f} | MAPE: {mape:.2f}%\")\n",
    "    \n",
    "    # Save results in a new sheet\n",
    "    results = pd.DataFrame({\n",
    "        'Date': test_data['Time'],  # Adjust 'Time' to your date column name\n",
    "        'Actual': y_test,\n",
    "        'Predicted': y_pred,\n",
    "        'RMSE': [rmse] * len(y_test),  # Add RMSE for consistency\n",
    "        'MAPE': [mape] * len(y_test)  # Add MAPE for consistency\n",
    "    })\n",
    "    \n",
    "    # Add summary results\n",
    "    ws_summary.append([lag_name, rmse, mape])\n",
    "    \n",
    "    # Add sheet for this lag\n",
    "    ws = wb.create_sheet(title=lag_name)\n",
    "    for r in dataframe_to_rows(results, index=False, header=True):\n",
    "        ws.append(r)\n",
    "\n",
    "# Save the workbook\n",
    "wb.save(output_file)\n",
    "print(f\"All results saved to Excel file: {output_file}\")"
   ]
  },
  {
   "cell_type": "code",
   "execution_count": null,
   "id": "5f7a1265",
   "metadata": {},
   "outputs": [],
   "source": [
    "#### PUT BERDASARKAN LAG ####"
   ]
  },
  {
   "cell_type": "code",
   "execution_count": 6,
   "id": "9a6245e1",
   "metadata": {},
   "outputs": [],
   "source": [
    "# Read training and testing data for Put options\n",
    "train_data_put = pd.read_excel(\"/Users/shannenwibisono/Desktop/-SKRIPSI-/Bitcoin/Bitcoin Training Testing Put.xlsx\", sheet_name=\"Training Data Put\")\n",
    "test_data_put = pd.read_excel(\"/Users/shannenwibisono/Desktop/-SKRIPSI-/Bitcoin/Bitcoin Training Testing Put.xlsx\", sheet_name=\"Testing Data Put\")"
   ]
  },
  {
   "cell_type": "code",
   "execution_count": 7,
   "id": "5bb7c7f0",
   "metadata": {},
   "outputs": [],
   "source": [
    "# Define the LightGBM parameters\n",
    "params = {\n",
    "    'boost_from_average': True,\n",
    "    'colsample_bytree': 0.5,\n",
    "    'fair_c': 1,\n",
    "    'huber_delta': 1,\n",
    "    'learning_rate': 0.05,\n",
    "    'max_bin': 255,\n",
    "    'max_delta_step': 0.7,\n",
    "    'max_depth': -1,  # None is represented by -1 in LightGBM\n",
    "    'min_child_samples': 10,\n",
    "    'min_child_weight': 5,\n",
    "    'min_split_gain': 0,\n",
    "    'n_estimators': 2500,\n",
    "    'num_leaves': 16,\n",
    "    'objective': 'gamma',\n",
    "    'reg_alpha': 0,\n",
    "    'reg_lambda': 0,\n",
    "    'subsample': 1,\n",
    "    'subsample_for_bin': 50000,\n",
    "    'subsample_freq': 1,\n",
    "    'tweedie_variance_power': 1.5,\n",
    "    'early_stopping_round': 200  # Set early stopping in parameters\n",
    "}\n",
    "\n",
    "# Define lag configurations (individual testing)\n",
    "lags = {\n",
    "    'RVlag1': ['RVlag1'],\n",
    "    'RVlag7': ['RVlag7'],\n",
    "    'RVlag15': ['RVlag15'],\n",
    "    'RVlag30': ['RVlag30'],\n",
    "    'BVlag1': ['BVlag1'],\n",
    "    'BVlag7': ['BVlag7'],\n",
    "    'BVlag15': ['BVlag15'],\n",
    "    'BVlag30': ['BVlag30'],\n",
    "    'SJVlag7': ['SJVlag7'],\n",
    "    'SJVlag15': ['SJVlag15'],\n",
    "    'SJVlag30': ['SJVlag30']\n",
    "}"
   ]
  },
  {
   "cell_type": "code",
   "execution_count": 8,
   "id": "b66c50a7",
   "metadata": {},
   "outputs": [],
   "source": [
    "# Output file path\n",
    "output_file = \"/Users/shannenwibisono/Desktop/-SKRIPSI-/Results LGBM/Results_LightGBM_BTCPut_All.xlsx\"\n",
    "\n",
    "# Create a workbook to save results\n",
    "wb = Workbook()\n",
    "ws_summary = wb.active\n",
    "ws_summary.title = \"Summary\"\n",
    "ws_summary.append([\"Lag\", \"RMSE\", \"MAPE\"])  # Add headers for summary"
   ]
  },
  {
   "cell_type": "code",
   "execution_count": 9,
   "id": "cace7f91",
   "metadata": {},
   "outputs": [
    {
     "name": "stdout",
     "output_type": "stream",
     "text": [
      "\n",
      "Testing with lag: RVlag1\n",
      "[LightGBM] [Warning] Unknown parameter: huber_delta\n",
      "[LightGBM] [Warning] Unknown parameter: huber_delta\n",
      "[LightGBM] [Info] Auto-choosing row-wise multi-threading, the overhead of testing was 0.000386 seconds.\n",
      "You can set `force_row_wise=true` to remove the overhead.\n",
      "And if memory is not enough, you can set `force_col_wise=true`.\n",
      "[LightGBM] [Info] Total Bins 832\n",
      "[LightGBM] [Info] Number of data points in the train set: 8446, number of used features: 4\n",
      "[LightGBM] [Warning] Unknown parameter: huber_delta\n",
      "[LightGBM] [Info] Start training from score 9.242772\n",
      "Training until validation scores don't improve for 200 rounds\n"
     ]
    },
    {
     "name": "stderr",
     "output_type": "stream",
     "text": [
      "/Users/shannenwibisono/anaconda3/lib/python3.11/site-packages/lightgbm/engine.py:204: UserWarning: Found `n_estimators` in params. Will use it instead of argument\n",
      "  _log_warning(f\"Found `{alias}` in params. Will use it instead of argument\")\n"
     ]
    },
    {
     "name": "stdout",
     "output_type": "stream",
     "text": [
      "Did not meet early stopping. Best iteration is:\n",
      "[2500]\ttrain's gamma: 9.08769\ttest's gamma: 8.97453\n",
      "Lag: RVlag1 | RMSE: 473.1196 | MAPE: 4.59%\n",
      "\n",
      "Testing with lag: RVlag7\n",
      "[LightGBM] [Warning] Unknown parameter: huber_delta\n",
      "[LightGBM] [Warning] Unknown parameter: huber_delta\n",
      "[LightGBM] [Info] Auto-choosing col-wise multi-threading, the overhead of testing was 0.000240 seconds.\n",
      "You can set `force_col_wise=true` to remove the overhead.\n",
      "[LightGBM] [Info] Total Bins 832\n",
      "[LightGBM] [Info] Number of data points in the train set: 8446, number of used features: 4\n",
      "[LightGBM] [Warning] Unknown parameter: huber_delta\n",
      "[LightGBM] [Info] Start training from score 9.242772\n",
      "Training until validation scores don't improve for 200 rounds\n"
     ]
    },
    {
     "name": "stderr",
     "output_type": "stream",
     "text": [
      "/Users/shannenwibisono/anaconda3/lib/python3.11/site-packages/lightgbm/engine.py:204: UserWarning: Found `n_estimators` in params. Will use it instead of argument\n",
      "  _log_warning(f\"Found `{alias}` in params. Will use it instead of argument\")\n"
     ]
    },
    {
     "name": "stdout",
     "output_type": "stream",
     "text": [
      "Did not meet early stopping. Best iteration is:\n",
      "[2499]\ttrain's gamma: 9.08769\ttest's gamma: 8.97479\n",
      "Lag: RVlag7 | RMSE: 754.1602 | MAPE: 4.55%\n",
      "\n",
      "Testing with lag: RVlag15\n",
      "[LightGBM] [Warning] Unknown parameter: huber_delta\n",
      "[LightGBM] [Warning] Unknown parameter: huber_delta\n",
      "[LightGBM] [Info] Auto-choosing col-wise multi-threading, the overhead of testing was 0.000246 seconds.\n",
      "You can set `force_col_wise=true` to remove the overhead.\n",
      "[LightGBM] [Info] Total Bins 832\n",
      "[LightGBM] [Info] Number of data points in the train set: 8446, number of used features: 4\n",
      "[LightGBM] [Warning] Unknown parameter: huber_delta\n",
      "[LightGBM] [Info] Start training from score 9.242772\n",
      "Training until validation scores don't improve for 200 rounds\n"
     ]
    },
    {
     "name": "stderr",
     "output_type": "stream",
     "text": [
      "/Users/shannenwibisono/anaconda3/lib/python3.11/site-packages/lightgbm/engine.py:204: UserWarning: Found `n_estimators` in params. Will use it instead of argument\n",
      "  _log_warning(f\"Found `{alias}` in params. Will use it instead of argument\")\n"
     ]
    },
    {
     "name": "stdout",
     "output_type": "stream",
     "text": [
      "Did not meet early stopping. Best iteration is:\n",
      "[2499]\ttrain's gamma: 9.08771\ttest's gamma: 8.97509\n",
      "Lag: RVlag15 | RMSE: 585.5914 | MAPE: 4.53%\n",
      "\n",
      "Testing with lag: RVlag30\n",
      "[LightGBM] [Warning] Unknown parameter: huber_delta\n",
      "[LightGBM] [Warning] Unknown parameter: huber_delta\n",
      "[LightGBM] [Info] Auto-choosing col-wise multi-threading, the overhead of testing was 0.000250 seconds.\n",
      "You can set `force_col_wise=true` to remove the overhead.\n",
      "[LightGBM] [Info] Total Bins 831\n",
      "[LightGBM] [Info] Number of data points in the train set: 8446, number of used features: 4\n",
      "[LightGBM] [Warning] Unknown parameter: huber_delta\n",
      "[LightGBM] [Info] Start training from score 9.242772\n",
      "Training until validation scores don't improve for 200 rounds\n"
     ]
    },
    {
     "name": "stderr",
     "output_type": "stream",
     "text": [
      "/Users/shannenwibisono/anaconda3/lib/python3.11/site-packages/lightgbm/engine.py:204: UserWarning: Found `n_estimators` in params. Will use it instead of argument\n",
      "  _log_warning(f\"Found `{alias}` in params. Will use it instead of argument\")\n"
     ]
    },
    {
     "name": "stdout",
     "output_type": "stream",
     "text": [
      "Did not meet early stopping. Best iteration is:\n",
      "[2499]\ttrain's gamma: 9.08765\ttest's gamma: 8.97457\n",
      "Lag: RVlag30 | RMSE: 854.1427 | MAPE: 4.42%\n",
      "\n",
      "Testing with lag: BVlag1\n",
      "[LightGBM] [Warning] Unknown parameter: huber_delta\n",
      "[LightGBM] [Warning] Unknown parameter: huber_delta\n",
      "[LightGBM] [Info] Auto-choosing col-wise multi-threading, the overhead of testing was 0.000075 seconds.\n",
      "You can set `force_col_wise=true` to remove the overhead.\n",
      "[LightGBM] [Info] Total Bins 832\n",
      "[LightGBM] [Info] Number of data points in the train set: 8446, number of used features: 4\n",
      "[LightGBM] [Warning] Unknown parameter: huber_delta\n",
      "[LightGBM] [Info] Start training from score 9.242772\n",
      "Training until validation scores don't improve for 200 rounds\n"
     ]
    },
    {
     "name": "stderr",
     "output_type": "stream",
     "text": [
      "/Users/shannenwibisono/anaconda3/lib/python3.11/site-packages/lightgbm/engine.py:204: UserWarning: Found `n_estimators` in params. Will use it instead of argument\n",
      "  _log_warning(f\"Found `{alias}` in params. Will use it instead of argument\")\n"
     ]
    },
    {
     "name": "stdout",
     "output_type": "stream",
     "text": [
      "Did not meet early stopping. Best iteration is:\n",
      "[2500]\ttrain's gamma: 9.0877\ttest's gamma: 8.97455\n",
      "Lag: BVlag1 | RMSE: 655.5402 | MAPE: 4.62%\n",
      "\n",
      "Testing with lag: BVlag7\n",
      "[LightGBM] [Warning] Unknown parameter: huber_delta\n",
      "[LightGBM] [Warning] Unknown parameter: huber_delta\n",
      "[LightGBM] [Info] Auto-choosing row-wise multi-threading, the overhead of testing was 0.000035 seconds.\n",
      "You can set `force_row_wise=true` to remove the overhead.\n",
      "And if memory is not enough, you can set `force_col_wise=true`.\n",
      "[LightGBM] [Info] Total Bins 832\n",
      "[LightGBM] [Info] Number of data points in the train set: 8446, number of used features: 4\n",
      "[LightGBM] [Warning] Unknown parameter: huber_delta\n",
      "[LightGBM] [Info] Start training from score 9.242772\n",
      "Training until validation scores don't improve for 200 rounds\n"
     ]
    },
    {
     "name": "stderr",
     "output_type": "stream",
     "text": [
      "/Users/shannenwibisono/anaconda3/lib/python3.11/site-packages/lightgbm/engine.py:204: UserWarning: Found `n_estimators` in params. Will use it instead of argument\n",
      "  _log_warning(f\"Found `{alias}` in params. Will use it instead of argument\")\n"
     ]
    },
    {
     "name": "stdout",
     "output_type": "stream",
     "text": [
      "Did not meet early stopping. Best iteration is:\n",
      "[2500]\ttrain's gamma: 9.0877\ttest's gamma: 8.97444\n",
      "Lag: BVlag7 | RMSE: 751.1933 | MAPE: 4.49%\n",
      "\n",
      "Testing with lag: BVlag15\n"
     ]
    },
    {
     "name": "stderr",
     "output_type": "stream",
     "text": [
      "/Users/shannenwibisono/anaconda3/lib/python3.11/site-packages/lightgbm/engine.py:204: UserWarning: Found `n_estimators` in params. Will use it instead of argument\n",
      "  _log_warning(f\"Found `{alias}` in params. Will use it instead of argument\")\n"
     ]
    },
    {
     "name": "stdout",
     "output_type": "stream",
     "text": [
      "[LightGBM] [Warning] Unknown parameter: huber_delta\n",
      "[LightGBM] [Warning] Unknown parameter: huber_delta\n",
      "[LightGBM] [Info] Auto-choosing col-wise multi-threading, the overhead of testing was 0.000199 seconds.\n",
      "You can set `force_col_wise=true` to remove the overhead.\n",
      "[LightGBM] [Info] Total Bins 832\n",
      "[LightGBM] [Info] Number of data points in the train set: 8446, number of used features: 4\n",
      "[LightGBM] [Warning] Unknown parameter: huber_delta\n",
      "[LightGBM] [Info] Start training from score 9.242772\n",
      "Training until validation scores don't improve for 200 rounds\n",
      "Did not meet early stopping. Best iteration is:\n",
      "[2499]\ttrain's gamma: 9.08767\ttest's gamma: 8.97471\n",
      "Lag: BVlag15 | RMSE: 604.3342 | MAPE: 4.61%\n",
      "\n",
      "Testing with lag: BVlag30\n",
      "[LightGBM] [Warning] Unknown parameter: huber_delta\n",
      "[LightGBM] [Warning] Unknown parameter: huber_delta\n",
      "[LightGBM] [Info] Auto-choosing col-wise multi-threading, the overhead of testing was 0.000178 seconds.\n",
      "You can set `force_col_wise=true` to remove the overhead.\n",
      "[LightGBM] [Info] Total Bins 832\n",
      "[LightGBM] [Info] Number of data points in the train set: 8446, number of used features: 4\n",
      "[LightGBM] [Warning] Unknown parameter: huber_delta\n",
      "[LightGBM] [Info] Start training from score 9.242772\n",
      "Training until validation scores don't improve for 200 rounds\n"
     ]
    },
    {
     "name": "stderr",
     "output_type": "stream",
     "text": [
      "/Users/shannenwibisono/anaconda3/lib/python3.11/site-packages/lightgbm/engine.py:204: UserWarning: Found `n_estimators` in params. Will use it instead of argument\n",
      "  _log_warning(f\"Found `{alias}` in params. Will use it instead of argument\")\n"
     ]
    },
    {
     "name": "stdout",
     "output_type": "stream",
     "text": [
      "Did not meet early stopping. Best iteration is:\n",
      "[2500]\ttrain's gamma: 9.08755\ttest's gamma: 8.97422\n",
      "Lag: BVlag30 | RMSE: 413.8038 | MAPE: 4.13%\n",
      "\n",
      "Testing with lag: SJVlag7\n",
      "[LightGBM] [Warning] Unknown parameter: huber_delta\n",
      "[LightGBM] [Warning] Unknown parameter: huber_delta\n",
      "[LightGBM] [Info] Auto-choosing col-wise multi-threading, the overhead of testing was 0.000115 seconds.\n",
      "You can set `force_col_wise=true` to remove the overhead.\n",
      "[LightGBM] [Info] Total Bins 832\n",
      "[LightGBM] [Info] Number of data points in the train set: 8446, number of used features: 4\n",
      "[LightGBM] [Warning] Unknown parameter: huber_delta\n",
      "[LightGBM] [Info] Start training from score 9.242772\n",
      "Training until validation scores don't improve for 200 rounds\n"
     ]
    },
    {
     "name": "stderr",
     "output_type": "stream",
     "text": [
      "/Users/shannenwibisono/anaconda3/lib/python3.11/site-packages/lightgbm/engine.py:204: UserWarning: Found `n_estimators` in params. Will use it instead of argument\n",
      "  _log_warning(f\"Found `{alias}` in params. Will use it instead of argument\")\n"
     ]
    },
    {
     "name": "stdout",
     "output_type": "stream",
     "text": [
      "Did not meet early stopping. Best iteration is:\n",
      "[2499]\ttrain's gamma: 9.08759\ttest's gamma: 8.97428\n",
      "Lag: SJVlag7 | RMSE: 466.5006 | MAPE: 4.21%\n",
      "\n",
      "Testing with lag: SJVlag15\n",
      "[LightGBM] [Warning] Unknown parameter: huber_delta\n",
      "[LightGBM] [Warning] Unknown parameter: huber_delta\n",
      "[LightGBM] [Info] Auto-choosing col-wise multi-threading, the overhead of testing was 0.000129 seconds.\n",
      "You can set `force_col_wise=true` to remove the overhead.\n",
      "[LightGBM] [Info] Total Bins 831\n",
      "[LightGBM] [Info] Number of data points in the train set: 8446, number of used features: 4\n",
      "[LightGBM] [Warning] Unknown parameter: huber_delta\n",
      "[LightGBM] [Info] Start training from score 9.242772\n",
      "Training until validation scores don't improve for 200 rounds\n"
     ]
    },
    {
     "name": "stderr",
     "output_type": "stream",
     "text": [
      "/Users/shannenwibisono/anaconda3/lib/python3.11/site-packages/lightgbm/engine.py:204: UserWarning: Found `n_estimators` in params. Will use it instead of argument\n",
      "  _log_warning(f\"Found `{alias}` in params. Will use it instead of argument\")\n"
     ]
    },
    {
     "name": "stdout",
     "output_type": "stream",
     "text": [
      "Did not meet early stopping. Best iteration is:\n",
      "[2500]\ttrain's gamma: 9.08772\ttest's gamma: 8.97501\n",
      "Lag: SJVlag15 | RMSE: 803.4681 | MAPE: 4.48%\n",
      "\n",
      "Testing with lag: SJVlag30\n",
      "[LightGBM] [Warning] Unknown parameter: huber_delta\n",
      "[LightGBM] [Warning] Unknown parameter: huber_delta\n",
      "[LightGBM] [Info] Auto-choosing col-wise multi-threading, the overhead of testing was 0.000108 seconds.\n",
      "You can set `force_col_wise=true` to remove the overhead.\n",
      "[LightGBM] [Info] Total Bins 828\n",
      "[LightGBM] [Info] Number of data points in the train set: 8446, number of used features: 4\n",
      "[LightGBM] [Warning] Unknown parameter: huber_delta\n",
      "[LightGBM] [Info] Start training from score 9.242772\n",
      "Training until validation scores don't improve for 200 rounds\n"
     ]
    },
    {
     "name": "stderr",
     "output_type": "stream",
     "text": [
      "/Users/shannenwibisono/anaconda3/lib/python3.11/site-packages/lightgbm/engine.py:204: UserWarning: Found `n_estimators` in params. Will use it instead of argument\n",
      "  _log_warning(f\"Found `{alias}` in params. Will use it instead of argument\")\n"
     ]
    },
    {
     "name": "stdout",
     "output_type": "stream",
     "text": [
      "Did not meet early stopping. Best iteration is:\n",
      "[2500]\ttrain's gamma: 9.0876\ttest's gamma: 8.97449\n",
      "Lag: SJVlag30 | RMSE: 580.9833 | MAPE: 4.52%\n",
      "All results saved to Excel file: /Users/shannenwibisono/Desktop/-SKRIPSI-/Results LGBM/Results_LightGBM_BTCPut_All.xlsx\n"
     ]
    }
   ],
   "source": [
    "# Loop through each lag configuration\n",
    "for lag_name, features in lags.items():\n",
    "    print(f\"\\nTesting with lag: {lag_name}\")\n",
    "    \n",
    "    # Select relevant features\n",
    "    selected_features = ['Asset Price', 'Maturity', 'Strike'] + features\n",
    "    \n",
    "    # Prepare features and target\n",
    "    x_train = train_data_put[selected_features].values\n",
    "    y_train = train_data_put['Last'].values\n",
    "    x_test = test_data_put[selected_features].values\n",
    "    y_test = test_data_put['Last'].values\n",
    "    \n",
    "    # Create LightGBM datasets\n",
    "    train_set = lgb.Dataset(x_train, label=y_train)\n",
    "    test_set = lgb.Dataset(x_test, label=y_test, reference=train_set)\n",
    "    \n",
    "    # Train the model\n",
    "    model = lgb.train(\n",
    "        params, \n",
    "        train_set, \n",
    "        valid_sets=[train_set, test_set], \n",
    "        valid_names=[\"train\", \"test\"], \n",
    "        num_boost_round=2500\n",
    "    )\n",
    "    \n",
    "    # Make predictions\n",
    "    y_pred = model.predict(x_test, num_iteration=model.best_iteration)\n",
    "    \n",
    "    # Calculate RMSE and MAPE\n",
    "    rmse = mean_squared_error(y_test, y_pred, squared=False)\n",
    "    mape = np.mean(np.abs((y_test - y_pred) / y_test)) * 100\n",
    "    print(f\"Lag: {lag_name} | RMSE: {rmse:.4f} | MAPE: {mape:.2f}%\")\n",
    "    \n",
    "    # Save results in a new sheet\n",
    "    results = pd.DataFrame({\n",
    "        'Date': test_data_put['Time'],  # Adjust 'Time' to your date column name\n",
    "        'Actual': y_test,\n",
    "        'Predicted': y_pred,\n",
    "        'RMSE': [rmse] * len(y_test),  # Add RMSE for consistency\n",
    "        'MAPE': [mape] * len(y_test)  # Add MAPE for consistency\n",
    "    })\n",
    "    \n",
    "    # Add summary results\n",
    "    ws_summary.append([lag_name, rmse, mape])\n",
    "    \n",
    "    # Add sheet for this lag\n",
    "    ws = wb.create_sheet(title=lag_name)\n",
    "    for r in dataframe_to_rows(results, index=False, header=True):\n",
    "        ws.append(r)\n",
    "\n",
    "# Save the workbook\n",
    "wb.save(output_file)\n",
    "print(f\"All results saved to Excel file: {output_file}\")"
   ]
  },
  {
   "cell_type": "code",
   "execution_count": null,
   "id": "44d25c40",
   "metadata": {},
   "outputs": [],
   "source": []
  }
 ],
 "metadata": {
  "kernelspec": {
   "display_name": "Python 3 (ipykernel)",
   "language": "python",
   "name": "python3"
  },
  "language_info": {
   "codemirror_mode": {
    "name": "ipython",
    "version": 3
   },
   "file_extension": ".py",
   "mimetype": "text/x-python",
   "name": "python",
   "nbconvert_exporter": "python",
   "pygments_lexer": "ipython3",
   "version": "3.11.5"
  }
 },
 "nbformat": 4,
 "nbformat_minor": 5
}
